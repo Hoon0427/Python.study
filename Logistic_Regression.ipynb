{
 "cells": [
  {
   "cell_type": "code",
   "execution_count": 15,
   "metadata": {},
   "outputs": [],
   "source": [
    "import pandas as pd\n",
    "import numpy as np\n",
    "from sklearn.linear_model import LogisticRegression\n",
    "from sklearn.model_selection import train_test_split"
   ]
  },
  {
   "cell_type": "code",
   "execution_count": 3,
   "metadata": {},
   "outputs": [],
   "source": [
    "data = pd.read_excel('/home/ekim_reverse/PyCode/study/Python.study/pre_03.xlsx')"
   ]
  },
  {
   "cell_type": "code",
   "execution_count": 4,
   "metadata": {},
   "outputs": [],
   "source": [
    "df = data.loc[:,'DM':'homa']\n",
    "df = df.dropna(axis=0)"
   ]
  },
  {
   "cell_type": "code",
   "execution_count": 5,
   "metadata": {},
   "outputs": [],
   "source": [
    "x = df[['SEX','age','phase','glu','alt','waist','fib4','hba1c','homa']]\n",
    "y = df['DM']"
   ]
  },
  {
   "cell_type": "code",
   "execution_count": 16,
   "metadata": {},
   "outputs": [],
   "source": [
    "x_train, x_test, y_train, y_test = train_test_split(x, y, test_size=0.2, random_state=42)"
   ]
  },
  {
   "cell_type": "code",
   "execution_count": 17,
   "metadata": {},
   "outputs": [],
   "source": [
    "log = LogisticRegression() "
   ]
  },
  {
   "cell_type": "code",
   "execution_count": 24,
   "metadata": {
    "scrolled": true
   },
   "outputs": [
    {
     "name": "stderr",
     "output_type": "stream",
     "text": [
      "/home/ekim_reverse/.local/lib/python3.6/site-packages/sklearn/linear_model/_logistic.py:940: ConvergenceWarning: lbfgs failed to converge (status=1):\n",
      "STOP: TOTAL NO. of ITERATIONS REACHED LIMIT.\n",
      "\n",
      "Increase the number of iterations (max_iter) or scale the data as shown in:\n",
      "    https://scikit-learn.org/stable/modules/preprocessing.html\n",
      "Please also refer to the documentation for alternative solver options:\n",
      "    https://scikit-learn.org/stable/modules/linear_model.html#logistic-regression\n",
      "  extra_warning_msg=_LOGISTIC_SOLVER_CONVERGENCE_MSG)\n"
     ]
    }
   ],
   "source": [
    "result_01 = log.fit(x_train,y_train)"
   ]
  },
  {
   "cell_type": "code",
   "execution_count": 21,
   "metadata": {},
   "outputs": [
    {
     "name": "stdout",
     "output_type": "stream",
     "text": [
      "학습용 데이터셋 정확도 : 0.99\n",
      "검증용 데이터셋 정확도 : 0.98\n"
     ]
    }
   ],
   "source": [
    "print('학습용 데이터셋 정확도 : %.2f' % log.score(x_train, y_train))\n",
    "print('검증용 데이터셋 정확도 : %.2f' % log.score(x_test, y_test))"
   ]
  },
  {
   "cell_type": "code",
   "execution_count": 22,
   "metadata": {},
   "outputs": [
    {
     "name": "stdout",
     "output_type": "stream",
     "text": [
      "              precision    recall  f1-score   support\n",
      "\n",
      "           0       0.98      1.00      0.99       524\n",
      "           1       0.97      0.89      0.93        85\n",
      "\n",
      "    accuracy                           0.98       609\n",
      "   macro avg       0.98      0.95      0.96       609\n",
      "weighted avg       0.98      0.98      0.98       609\n",
      "\n"
     ]
    }
   ],
   "source": [
    "from sklearn.metrics import classification_report\n",
    "y_pred=log.predict(x_test)\n",
    "print(classification_report(y_test, y_pred))"
   ]
  },
  {
   "cell_type": "code",
   "execution_count": null,
   "metadata": {},
   "outputs": [],
   "source": []
  },
  {
   "cell_type": "code",
   "execution_count": 26,
   "metadata": {},
   "outputs": [
    {
     "name": "stdout",
     "output_type": "stream",
     "text": [
      "Optimization terminated successfully.\n",
      "         Current function value: 0.043585\n",
      "         Iterations 11\n"
     ]
    }
   ],
   "source": [
    "import statsmodels.api as sm\n",
    "logit = sm.Logit(df[['DM']],x) #로지스틱 회귀분석 시행\n",
    "result_02 = logit.fit()"
   ]
  },
  {
   "cell_type": "code",
   "execution_count": 27,
   "metadata": {},
   "outputs": [
    {
     "data": {
      "text/html": [
       "<table class=\"simpletable\">\n",
       "<caption>Logit Regression Results</caption>\n",
       "<tr>\n",
       "  <th>Dep. Variable:</th>          <td>DM</td>        <th>  No. Observations:  </th>  <td>  3045</td> \n",
       "</tr>\n",
       "<tr>\n",
       "  <th>Model:</th>                 <td>Logit</td>      <th>  Df Residuals:      </th>  <td>  3036</td> \n",
       "</tr>\n",
       "<tr>\n",
       "  <th>Method:</th>                 <td>MLE</td>       <th>  Df Model:          </th>  <td>     8</td> \n",
       "</tr>\n",
       "<tr>\n",
       "  <th>Date:</th>            <td>Mon, 15 Jun 2020</td> <th>  Pseudo R-squ.:     </th>  <td>0.8844</td> \n",
       "</tr>\n",
       "<tr>\n",
       "  <th>Time:</th>                <td>17:19:07</td>     <th>  Log-Likelihood:    </th> <td> -132.72</td>\n",
       "</tr>\n",
       "<tr>\n",
       "  <th>converged:</th>             <td>True</td>       <th>  LL-Null:           </th> <td> -1148.0</td>\n",
       "</tr>\n",
       "<tr>\n",
       "  <th>Covariance Type:</th>     <td>nonrobust</td>    <th>  LLR p-value:       </th>  <td> 0.000</td> \n",
       "</tr>\n",
       "</table>\n",
       "<table class=\"simpletable\">\n",
       "<tr>\n",
       "    <td></td>       <th>coef</th>     <th>std err</th>      <th>z</th>      <th>P>|z|</th>  <th>[0.025</th>    <th>0.975]</th>  \n",
       "</tr>\n",
       "<tr>\n",
       "  <th>SEX</th>   <td>    0.4372</td> <td>    0.392</td> <td>    1.116</td> <td> 0.265</td> <td>   -0.331</td> <td>    1.205</td>\n",
       "</tr>\n",
       "<tr>\n",
       "  <th>age</th>   <td>    0.0172</td> <td>    0.022</td> <td>    0.787</td> <td> 0.431</td> <td>   -0.026</td> <td>    0.060</td>\n",
       "</tr>\n",
       "<tr>\n",
       "  <th>phase</th> <td>   -6.8651</td> <td>    0.600</td> <td>  -11.447</td> <td> 0.000</td> <td>   -8.041</td> <td>   -5.690</td>\n",
       "</tr>\n",
       "<tr>\n",
       "  <th>glu</th>   <td>    0.1006</td> <td>    0.016</td> <td>    6.315</td> <td> 0.000</td> <td>    0.069</td> <td>    0.132</td>\n",
       "</tr>\n",
       "<tr>\n",
       "  <th>alt</th>   <td>   -0.0077</td> <td>    0.009</td> <td>   -0.854</td> <td> 0.393</td> <td>   -0.026</td> <td>    0.010</td>\n",
       "</tr>\n",
       "<tr>\n",
       "  <th>waist</th> <td>    0.0081</td> <td>    0.019</td> <td>    0.418</td> <td> 0.676</td> <td>   -0.030</td> <td>    0.046</td>\n",
       "</tr>\n",
       "<tr>\n",
       "  <th>fib4</th>  <td>    0.2270</td> <td>    0.150</td> <td>    1.515</td> <td> 0.130</td> <td>   -0.067</td> <td>    0.521</td>\n",
       "</tr>\n",
       "<tr>\n",
       "  <th>hba1c</th> <td>    5.3002</td> <td>    0.592</td> <td>    8.959</td> <td> 0.000</td> <td>    4.141</td> <td>    6.460</td>\n",
       "</tr>\n",
       "<tr>\n",
       "  <th>homa</th>  <td>    0.0675</td> <td>    0.118</td> <td>    0.570</td> <td> 0.569</td> <td>   -0.165</td> <td>    0.300</td>\n",
       "</tr>\n",
       "</table><br/><br/>Possibly complete quasi-separation: A fraction 0.22 of observations can be<br/>perfectly predicted. This might indicate that there is complete<br/>quasi-separation. In this case some parameters will not be identified."
      ],
      "text/plain": [
       "<class 'statsmodels.iolib.summary.Summary'>\n",
       "\"\"\"\n",
       "                           Logit Regression Results                           \n",
       "==============================================================================\n",
       "Dep. Variable:                     DM   No. Observations:                 3045\n",
       "Model:                          Logit   Df Residuals:                     3036\n",
       "Method:                           MLE   Df Model:                            8\n",
       "Date:                Mon, 15 Jun 2020   Pseudo R-squ.:                  0.8844\n",
       "Time:                        17:19:07   Log-Likelihood:                -132.72\n",
       "converged:                       True   LL-Null:                       -1148.0\n",
       "Covariance Type:            nonrobust   LLR p-value:                     0.000\n",
       "==============================================================================\n",
       "                 coef    std err          z      P>|z|      [0.025      0.975]\n",
       "------------------------------------------------------------------------------\n",
       "SEX            0.4372      0.392      1.116      0.265      -0.331       1.205\n",
       "age            0.0172      0.022      0.787      0.431      -0.026       0.060\n",
       "phase         -6.8651      0.600    -11.447      0.000      -8.041      -5.690\n",
       "glu            0.1006      0.016      6.315      0.000       0.069       0.132\n",
       "alt           -0.0077      0.009     -0.854      0.393      -0.026       0.010\n",
       "waist          0.0081      0.019      0.418      0.676      -0.030       0.046\n",
       "fib4           0.2270      0.150      1.515      0.130      -0.067       0.521\n",
       "hba1c          5.3002      0.592      8.959      0.000       4.141       6.460\n",
       "homa           0.0675      0.118      0.570      0.569      -0.165       0.300\n",
       "==============================================================================\n",
       "\n",
       "Possibly complete quasi-separation: A fraction 0.22 of observations can be\n",
       "perfectly predicted. This might indicate that there is complete\n",
       "quasi-separation. In this case some parameters will not be identified.\n",
       "\"\"\""
      ]
     },
     "execution_count": 27,
     "metadata": {},
     "output_type": "execute_result"
    }
   ],
   "source": [
    "result_02.summary()"
   ]
  },
  {
   "cell_type": "code",
   "execution_count": 28,
   "metadata": {},
   "outputs": [
    {
     "data": {
      "text/plain": [
       "SEX        1.548293\n",
       "age        1.017344\n",
       "phase      0.001044\n",
       "glu        1.105791\n",
       "alt        0.992286\n",
       "waist      1.008177\n",
       "fib4       1.254873\n",
       "hba1c    200.372055\n",
       "homa       1.069826\n",
       "dtype: float64"
      ]
     },
     "execution_count": 28,
     "metadata": {},
     "output_type": "execute_result"
    }
   ],
   "source": [
    "np.exp(result_02.params)\n",
    "# 1에서 멀리 떨어질수록 종속변수와 관계과 깊다고 할 수 있다"
   ]
  },
  {
   "cell_type": "code",
   "execution_count": null,
   "metadata": {},
   "outputs": [],
   "source": []
  }
 ],
 "metadata": {
  "kernelspec": {
   "display_name": "Python 3",
   "language": "python",
   "name": "python3"
  },
  "language_info": {
   "codemirror_mode": {
    "name": "ipython",
    "version": 3
   },
   "file_extension": ".py",
   "mimetype": "text/x-python",
   "name": "python",
   "nbconvert_exporter": "python",
   "pygments_lexer": "ipython3",
   "version": "3.6.9"
  }
 },
 "nbformat": 4,
 "nbformat_minor": 4
}
