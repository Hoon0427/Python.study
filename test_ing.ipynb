{
 "cells": [
  {
   "cell_type": "code",
   "execution_count": 1,
   "metadata": {},
   "outputs": [],
   "source": [
    "import pandas as pd\n",
    "import numpy as np\n",
    "from pandas import Series, DataFrame"
   ]
  },
  {
   "cell_type": "code",
   "execution_count": 2,
   "metadata": {},
   "outputs": [],
   "source": [
    "test = pd.read_excel('/home/ekim_reverse/PyCode/study/data_pre_01.xlsx')"
   ]
  },
  {
   "cell_type": "code",
   "execution_count": null,
   "metadata": {},
   "outputs": [],
   "source": [
    "print(test)"
   ]
  },
  {
   "cell_type": "code",
   "execution_count": 3,
   "metadata": {},
   "outputs": [],
   "source": [
    "test_01 = test.rename(columns=test.iloc[0])"
   ]
  },
  {
   "cell_type": "code",
   "execution_count": null,
   "metadata": {},
   "outputs": [],
   "source": [
    "test_01"
   ]
  },
  {
   "cell_type": "code",
   "execution_count": 4,
   "metadata": {},
   "outputs": [],
   "source": [
    "test_02 = test_01.drop(test_01.index[0])"
   ]
  },
  {
   "cell_type": "code",
   "execution_count": null,
   "metadata": {},
   "outputs": [],
   "source": [
    "test_02"
   ]
  },
  {
   "cell_type": "code",
   "execution_count": 5,
   "metadata": {},
   "outputs": [],
   "source": [
    "dayList = test_02.loc[:,\"day1\":\"day7\"]\n",
    "ageList = test_02.loc[:,\"age1\":\"age7\"]\n",
    "gluList = test_02.loc[:,\"GLU0_1\":\"GLU0_7\"]\n",
    "astList = test_02.loc[:,\"AST_1\":\"AST_7\"]\n",
    "altList = test_02.loc[:,\"ALT_1\":\"ALT_7\"]\n",
    "tchlList = test_02.loc[:,\"TCHL_1\":\"TCHL_7\"]\n",
    "tgList = test_02.loc[:,\"TG_1\":\"TG_7\"]\n",
    "bmiList = test_02.loc[:,\"BMI_1\":\"BMI_7\"]\n",
    "bmigrList = test_02.loc[:,\"BMI_GR_1\":\"BMI_GR_7\"]\n",
    "waistList = test_02.loc[:,\"WAIST_1\":\"WAIST_7\"]\n",
    "hsiList = test_02.loc[:,\"HSI_1\":\"HSI_7\"]\n",
    "fib4List = test_02.loc[:,\"FIB4_1\":\"FIB4_7\"]\n",
    "homaList = test_02.loc[:,\"HOMA_1\":\"HOMA_7\"]\n",
    "hba1cList = test_02.loc[:,\"HBA1C_1\":\"HBA1C_7\"]\n",
    "endList = pd.DataFrame(data = test_02[\"end\"])"
   ]
  },
  {
   "cell_type": "code",
   "execution_count": 9,
   "metadata": {},
   "outputs": [],
   "source": [
    "df_01 = pd.concat([dayList,endList,ageList],axis = 1)\n",
    "df_02 = pd.concat([dayList,endList,gluList],axis = 1)\n",
    "df_03 = pd.concat([dayList,endList,astList],axis = 1)\n",
    "df_04 = pd.concat([dayList,endList,altList],axis = 1)\n",
    "df_05 = pd.concat([dayList,endList,tchlList],axis = 1)\n",
    "df_06 = pd.concat([dayList,endList,tgList],axis = 1)\n",
    "df_07 = pd.concat([dayList,endList,bmiList],axis = 1)\n",
    "df_08 = pd.concat([dayList,endList,bmigrList],axis = 1)\n",
    "df_09 = pd.concat([dayList,endList,waistList],axis = 1)\n",
    "df_10 = pd.concat([dayList,endList,hsiList],axis = 1)\n",
    "df_11 = pd.concat([dayList,endList,fib4List],axis = 1)\n",
    "df_12 = pd.concat([dayList,endList,homaList],axis = 1)\n",
    "df_13 = pd.concat([dayList,endList,hba1cList],axis = 1)"
   ]
  },
  {
   "cell_type": "code",
   "execution_count": null,
   "metadata": {},
   "outputs": [],
   "source": []
  },
  {
   "cell_type": "code",
   "execution_count": null,
   "metadata": {},
   "outputs": [],
   "source": []
  },
  {
   "cell_type": "code",
   "execution_count": null,
   "metadata": {},
   "outputs": [],
   "source": []
  },
  {
   "cell_type": "code",
   "execution_count": null,
   "metadata": {},
   "outputs": [],
   "source": []
  },
  {
   "cell_type": "code",
   "execution_count": 10,
   "metadata": {
    "scrolled": true
   },
   "outputs": [
    {
     "data": {
      "text/html": [
       "<div>\n",
       "<style scoped>\n",
       "    .dataframe tbody tr th:only-of-type {\n",
       "        vertical-align: middle;\n",
       "    }\n",
       "\n",
       "    .dataframe tbody tr th {\n",
       "        vertical-align: top;\n",
       "    }\n",
       "\n",
       "    .dataframe thead th {\n",
       "        text-align: right;\n",
       "    }\n",
       "</style>\n",
       "<table border=\"1\" class=\"dataframe\">\n",
       "  <thead>\n",
       "    <tr style=\"text-align: right;\">\n",
       "      <th></th>\n",
       "      <th>day1</th>\n",
       "      <th>day2</th>\n",
       "      <th>day3</th>\n",
       "      <th>day4</th>\n",
       "      <th>day5</th>\n",
       "      <th>day6</th>\n",
       "      <th>day7</th>\n",
       "      <th>end</th>\n",
       "      <th>age1</th>\n",
       "      <th>age2</th>\n",
       "      <th>age3</th>\n",
       "      <th>age4</th>\n",
       "      <th>age5</th>\n",
       "      <th>age6</th>\n",
       "      <th>age7</th>\n",
       "    </tr>\n",
       "  </thead>\n",
       "  <tbody>\n",
       "    <tr>\n",
       "      <th>1</th>\n",
       "      <td>200210</td>\n",
       "      <td>200501</td>\n",
       "      <td>200607</td>\n",
       "      <td>200806</td>\n",
       "      <td>201007</td>\n",
       "      <td>201206</td>\n",
       "      <td>201406</td>\n",
       "      <td>200806</td>\n",
       "      <td>42</td>\n",
       "      <td>45</td>\n",
       "      <td>46</td>\n",
       "      <td>48</td>\n",
       "      <td>50</td>\n",
       "      <td>52</td>\n",
       "      <td>54</td>\n",
       "    </tr>\n",
       "    <tr>\n",
       "      <th>2</th>\n",
       "      <td>200204</td>\n",
       "      <td>200404</td>\n",
       "      <td>200605</td>\n",
       "      <td>200804</td>\n",
       "      <td>201004</td>\n",
       "      <td>201204</td>\n",
       "      <td>201404</td>\n",
       "      <td>200605</td>\n",
       "      <td>69</td>\n",
       "      <td>71</td>\n",
       "      <td>73</td>\n",
       "      <td>75</td>\n",
       "      <td>77</td>\n",
       "      <td>79</td>\n",
       "      <td>81</td>\n",
       "    </tr>\n",
       "    <tr>\n",
       "      <th>3</th>\n",
       "      <td>200205</td>\n",
       "      <td>200404</td>\n",
       "      <td>200605</td>\n",
       "      <td>200806</td>\n",
       "      <td>201005</td>\n",
       "      <td>201205</td>\n",
       "      <td>201405</td>\n",
       "      <td>200404</td>\n",
       "      <td>50</td>\n",
       "      <td>52</td>\n",
       "      <td>54</td>\n",
       "      <td>56</td>\n",
       "      <td>57</td>\n",
       "      <td>60</td>\n",
       "      <td>62</td>\n",
       "    </tr>\n",
       "    <tr>\n",
       "      <th>4</th>\n",
       "      <td>200107</td>\n",
       "      <td>200304</td>\n",
       "      <td>200505</td>\n",
       "      <td>200704</td>\n",
       "      <td>200904</td>\n",
       "      <td>201104</td>\n",
       "      <td>201303</td>\n",
       "      <td>201104</td>\n",
       "      <td>48</td>\n",
       "      <td>50</td>\n",
       "      <td>52</td>\n",
       "      <td>54</td>\n",
       "      <td>56</td>\n",
       "      <td>58</td>\n",
       "      <td>60</td>\n",
       "    </tr>\n",
       "    <tr>\n",
       "      <th>5</th>\n",
       "      <td>200210</td>\n",
       "      <td>200408</td>\n",
       "      <td>200608</td>\n",
       "      <td>200812</td>\n",
       "      <td>201008</td>\n",
       "      <td>201209</td>\n",
       "      <td>201407</td>\n",
       "      <td>200812</td>\n",
       "      <td>44</td>\n",
       "      <td>46</td>\n",
       "      <td>48</td>\n",
       "      <td>50</td>\n",
       "      <td>52</td>\n",
       "      <td>54</td>\n",
       "      <td>56</td>\n",
       "    </tr>\n",
       "  </tbody>\n",
       "</table>\n",
       "</div>"
      ],
      "text/plain": [
       "     day1    day2    day3    day4    day5    day6    day7     end age1 age2  \\\n",
       "1  200210  200501  200607  200806  201007  201206  201406  200806   42   45   \n",
       "2  200204  200404  200605  200804  201004  201204  201404  200605   69   71   \n",
       "3  200205  200404  200605  200806  201005  201205  201405  200404   50   52   \n",
       "4  200107  200304  200505  200704  200904  201104  201303  201104   48   50   \n",
       "5  200210  200408  200608  200812  201008  201209  201407  200812   44   46   \n",
       "\n",
       "  age3 age4 age5 age6 age7  \n",
       "1   46   48   50   52   54  \n",
       "2   73   75   77   79   81  \n",
       "3   54   56   57   60   62  \n",
       "4   52   54   56   58   60  \n",
       "5   48   50   52   54   56  "
      ]
     },
     "execution_count": 10,
     "metadata": {},
     "output_type": "execute_result"
    }
   ],
   "source": [
    "df_01.head()"
   ]
  },
  {
   "cell_type": "code",
   "execution_count": 15,
   "metadata": {
    "scrolled": true
   },
   "outputs": [
    {
     "ename": "IndexError",
     "evalue": "boolean index did not match indexed array along dimension 0; dimension is 3047 but corresponding boolean dimension is 7",
     "output_type": "error",
     "traceback": [
      "\u001b[0;31m---------------------------------------------------------------------------\u001b[0m",
      "\u001b[0;31mIndexError\u001b[0m                                Traceback (most recent call last)",
      "\u001b[0;32m<ipython-input-15-aef970b7125c>\u001b[0m in \u001b[0;36m<module>\u001b[0;34m\u001b[0m\n\u001b[1;32m      1\u001b[0m \u001b[0mendList\u001b[0m \u001b[0;34m=\u001b[0m \u001b[0;34m[\u001b[0m\u001b[0;34m]\u001b[0m\u001b[0;34m\u001b[0m\u001b[0;34m\u001b[0m\u001b[0m\n\u001b[1;32m      2\u001b[0m \u001b[0;32mfor\u001b[0m \u001b[0mi\u001b[0m \u001b[0;32min\u001b[0m \u001b[0mrange\u001b[0m\u001b[0;34m(\u001b[0m\u001b[0mlen\u001b[0m\u001b[0;34m(\u001b[0m\u001b[0mdf_01\u001b[0m\u001b[0;34m)\u001b[0m\u001b[0;34m)\u001b[0m\u001b[0;34m:\u001b[0m\u001b[0;34m\u001b[0m\u001b[0;34m\u001b[0m\u001b[0m\n\u001b[0;32m----> 3\u001b[0;31m   \u001b[0mindex_value\u001b[0m \u001b[0;34m=\u001b[0m \u001b[0mdf_01\u001b[0m\u001b[0;34m.\u001b[0m\u001b[0mindex\u001b[0m\u001b[0;34m[\u001b[0m\u001b[0mdf_01\u001b[0m\u001b[0;34m.\u001b[0m\u001b[0miloc\u001b[0m\u001b[0;34m[\u001b[0m\u001b[0mi\u001b[0m\u001b[0;34m,\u001b[0m\u001b[0;36m0\u001b[0m\u001b[0;34m:\u001b[0m\u001b[0;36m7\u001b[0m\u001b[0;34m]\u001b[0m \u001b[0;34m==\u001b[0m \u001b[0mdf_01\u001b[0m\u001b[0;34m.\u001b[0m\u001b[0miloc\u001b[0m\u001b[0;34m[\u001b[0m\u001b[0mi\u001b[0m\u001b[0;34m,\u001b[0m\u001b[0;36m7\u001b[0m\u001b[0;34m]\u001b[0m\u001b[0;34m]\u001b[0m\u001b[0;34m.\u001b[0m\u001b[0mtolist\u001b[0m\u001b[0;34m(\u001b[0m\u001b[0;34m)\u001b[0m\u001b[0;34m\u001b[0m\u001b[0;34m\u001b[0m\u001b[0m\n\u001b[0m\u001b[1;32m      4\u001b[0m   \u001b[0mendList\u001b[0m\u001b[0;34m.\u001b[0m\u001b[0mappend\u001b[0m\u001b[0;34m(\u001b[0m\u001b[0mdf_01\u001b[0m\u001b[0;34m.\u001b[0m\u001b[0miloc\u001b[0m\u001b[0;34m[\u001b[0m\u001b[0mi\u001b[0m\u001b[0;34m,\u001b[0m\u001b[0;34m(\u001b[0m\u001b[0;36m7\u001b[0m\u001b[0;34m+\u001b[0m\u001b[0mindex_value\u001b[0m\u001b[0;34m[\u001b[0m\u001b[0;36m0\u001b[0m\u001b[0;34m]\u001b[0m\u001b[0;34m)\u001b[0m\u001b[0;34m]\u001b[0m\u001b[0;34m)\u001b[0m\u001b[0;34m\u001b[0m\u001b[0;34m\u001b[0m\u001b[0m\n\u001b[1;32m      5\u001b[0m \u001b[0;34m\u001b[0m\u001b[0m\n",
      "\u001b[0;32m~/.local/lib/python3.6/site-packages/pandas/core/indexes/base.py\u001b[0m in \u001b[0;36m__getitem__\u001b[0;34m(self, key)\u001b[0m\n\u001b[1;32m   3938\u001b[0m \u001b[0;34m\u001b[0m\u001b[0m\n\u001b[1;32m   3939\u001b[0m         \u001b[0mkey\u001b[0m \u001b[0;34m=\u001b[0m \u001b[0mcom\u001b[0m\u001b[0;34m.\u001b[0m\u001b[0mvalues_from_object\u001b[0m\u001b[0;34m(\u001b[0m\u001b[0mkey\u001b[0m\u001b[0;34m)\u001b[0m\u001b[0;34m\u001b[0m\u001b[0;34m\u001b[0m\u001b[0m\n\u001b[0;32m-> 3940\u001b[0;31m         \u001b[0mresult\u001b[0m \u001b[0;34m=\u001b[0m \u001b[0mgetitem\u001b[0m\u001b[0;34m(\u001b[0m\u001b[0mkey\u001b[0m\u001b[0;34m)\u001b[0m\u001b[0;34m\u001b[0m\u001b[0;34m\u001b[0m\u001b[0m\n\u001b[0m\u001b[1;32m   3941\u001b[0m         \u001b[0;32mif\u001b[0m \u001b[0;32mnot\u001b[0m \u001b[0mis_scalar\u001b[0m\u001b[0;34m(\u001b[0m\u001b[0mresult\u001b[0m\u001b[0;34m)\u001b[0m\u001b[0;34m:\u001b[0m\u001b[0;34m\u001b[0m\u001b[0;34m\u001b[0m\u001b[0m\n\u001b[1;32m   3942\u001b[0m             \u001b[0;32mif\u001b[0m \u001b[0mnp\u001b[0m\u001b[0;34m.\u001b[0m\u001b[0mndim\u001b[0m\u001b[0;34m(\u001b[0m\u001b[0mresult\u001b[0m\u001b[0;34m)\u001b[0m \u001b[0;34m>\u001b[0m \u001b[0;36m1\u001b[0m\u001b[0;34m:\u001b[0m\u001b[0;34m\u001b[0m\u001b[0;34m\u001b[0m\u001b[0m\n",
      "\u001b[0;31mIndexError\u001b[0m: boolean index did not match indexed array along dimension 0; dimension is 3047 but corresponding boolean dimension is 7"
     ]
    }
   ],
   "source": [
    "endList = []\n",
    "for i in range(len(df_01)):\n",
    "  index_value = df_01.index[df_01.iloc[i,0:7] == df_01.iloc[i,7]].tolist()\n",
    "  endList.append(df_01.iloc[i,(7+index_value[0])])\n",
    "\n",
    "df['day'] = endList\n",
    "print(df)"
   ]
  },
  {
   "cell_type": "code",
   "execution_count": null,
   "metadata": {},
   "outputs": [],
   "source": [
    "def cal(x):\n",
    "    endList = []\n",
    "    for i in range(len(x)):\n",
    "        index_value = x.index[x.iloc[i,0:7] == x.iloc[i,7]].tolist()\n",
    "        endList.append(x.iloc[i,(7+index_value[0])])\n",
    "        \n",
    "df['day'] = endList"
   ]
  },
  {
   "cell_type": "code",
   "execution_count": null,
   "metadata": {},
   "outputs": [],
   "source": []
  },
  {
   "cell_type": "code",
   "execution_count": null,
   "metadata": {},
   "outputs": [],
   "source": []
  },
  {
   "cell_type": "code",
   "execution_count": null,
   "metadata": {},
   "outputs": [],
   "source": []
  },
  {
   "cell_type": "code",
   "execution_count": null,
   "metadata": {},
   "outputs": [],
   "source": [
    "endList"
   ]
  },
  {
   "cell_type": "code",
   "execution_count": null,
   "metadata": {
    "scrolled": false
   },
   "outputs": [],
   "source": [
    "# 데이터 생성 \n",
    "raw_data = {'D1': [1, 4, 8, 6],\n",
    "            'D2': [2, 5, 3, 5],\n",
    "            'D3' : [3,6,4,43],\n",
    "            'D4': [4,34,435,3],\n",
    "            'end': [3,5,4,6],\n",
    "            'age1': [34,23,14,41],\n",
    "            'age2': [35,24,15,42],\n",
    "            'age3' : [36,25,16,43],\n",
    "            'age4' : [37,26,17,45]\n",
    "            }\n",
    "\n",
    "df = DataFrame(raw_data)\n",
    "print(df)\n",
    "\n",
    "endList = []\n",
    "for i in [0,1,2,3]:\n",
    "  index_value = df.index[df.iloc[i,0:4] == df.iloc[i,4]].tolist() # 날짜 컬럼 맞추기\n",
    "  endList.append(df.iloc[i,(5+index_value[0])]) # 맞춘 데이터 리스트 형식으로 만들엊귀 \n",
    "\n",
    "# 새로 만들어준 리스트를 add라는 컬럼으로 재탄생\n",
    "df['add'] = endList\n",
    "\n",
    "print(df)"
   ]
  },
  {
   "cell_type": "code",
   "execution_count": null,
   "metadata": {},
   "outputs": [],
   "source": [
    "endList = []\n",
    "\n",
    "for i in range(len(test_02.index)):\n",
    "    index_value = dayList.index[dayList.iloc[i,range(len(dayList.index))] == test_02.iloc[i,test_02[\"end\"].tolist()]]\n",
    "    endList.append(test_02.iloc[i,(index_value[0])])\n",
    "                                \n",
    "test_02['add'] = endList\n",
    "\n",
    "print(test_02)"
   ]
  },
  {
   "cell_type": "code",
   "execution_count": null,
   "metadata": {},
   "outputs": [],
   "source": []
  },
  {
   "cell_type": "code",
   "execution_count": null,
   "metadata": {},
   "outputs": [],
   "source": []
  },
  {
   "cell_type": "code",
   "execution_count": null,
   "metadata": {},
   "outputs": [],
   "source": []
  },
  {
   "cell_type": "code",
   "execution_count": null,
   "metadata": {},
   "outputs": [],
   "source": [
    "endList = []\n",
    "\n",
    "for col in dayList.columns:\n",
    "    for j in range(len(dayList.iloc[col])):\n",
    "        if dayList.iloc[col] == test_02.iloc[j][9]:\n",
    "            endList.append(dayList.iloc[col])"
   ]
  },
  {
   "cell_type": "code",
   "execution_count": null,
   "metadata": {},
   "outputs": [],
   "source": [
    "endList = []\n",
    "\n",
    "for row in dayList.index:\n",
    "    for col in dayList.columns:\n",
    "        if dayList.iloc[row][col] == test_02[\"end\"][row]:\n",
    "            endList.append(ageList[row][col])\n",
    "\n",
    "endList"
   ]
  },
  {
   "cell_type": "code",
   "execution_count": null,
   "metadata": {},
   "outputs": [],
   "source": [
    "test_02[\"end\"][1]"
   ]
  },
  {
   "cell_type": "code",
   "execution_count": null,
   "metadata": {},
   "outputs": [],
   "source": [
    "test_02[\"end\"]"
   ]
  },
  {
   "cell_type": "code",
   "execution_count": null,
   "metadata": {},
   "outputs": [],
   "source": [
    "dayList.iloc[0][3]"
   ]
  },
  {
   "cell_type": "code",
   "execution_count": null,
   "metadata": {},
   "outputs": [],
   "source": [
    "dayList"
   ]
  },
  {
   "cell_type": "code",
   "execution_count": null,
   "metadata": {},
   "outputs": [],
   "source": []
  },
  {
   "cell_type": "code",
   "execution_count": null,
   "metadata": {},
   "outputs": [],
   "source": [
    "endList=[]\n",
    "\n",
    "for i in range(len(day_df)):\n",
    "    for j in range(len(day_df[i])):\n",
    "        if day_df[i][j].item() == test_02[\"end\"][j].item():\n",
    "            endList.append(age_df[j][i])\n",
    "\n",
    "endList"
   ]
  },
  {
   "cell_type": "code",
   "execution_count": null,
   "metadata": {},
   "outputs": [],
   "source": []
  },
  {
   "cell_type": "code",
   "execution_count": null,
   "metadata": {},
   "outputs": [],
   "source": [
    "endAgeList = []\n",
    "\n",
    "for data in test_02:\n",
    "    for i in range(len(dayList)):\n",
    "        if test_02[dayList[i]] == test_02[\"end\"]:\n",
    "            endAgeList.append(data[ageList[index]])"
   ]
  },
  {
   "cell_type": "code",
   "execution_count": null,
   "metadata": {},
   "outputs": [],
   "source": []
  }
 ],
 "metadata": {
  "kernelspec": {
   "display_name": "Python 3",
   "language": "python",
   "name": "python3"
  },
  "language_info": {
   "codemirror_mode": {
    "name": "ipython",
    "version": 3
   },
   "file_extension": ".py",
   "mimetype": "text/x-python",
   "name": "python",
   "nbconvert_exporter": "python",
   "pygments_lexer": "ipython3",
   "version": "3.6.9"
  }
 },
 "nbformat": 4,
 "nbformat_minor": 4
}
