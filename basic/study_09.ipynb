{
 "cells": [
  {
   "cell_type": "code",
   "execution_count": 1,
   "metadata": {},
   "outputs": [
    {
     "name": "stdout",
     "output_type": "stream",
     "text": [
      "20입니다.\n"
     ]
    }
   ],
   "source": [
    "x = 20\n",
    "if x == 10:\n",
    "    print('10입니다.')\n",
    "elif x == 20:\n",
    "    print('20입니다.')"
   ]
  },
  {
   "cell_type": "code",
   "execution_count": 2,
   "metadata": {},
   "outputs": [
    {
     "name": "stdout",
     "output_type": "stream",
     "text": [
      "10도 20도 아닙니다.\n"
     ]
    }
   ],
   "source": [
    "x = 30\n",
    "if x == 10:             # x가 10일 때\n",
    "    print('10입니다.')\n",
    "elif x == 20:           # x가 20일 때\n",
    "    print('20입니다.')\n",
    "else:                   # 앞의 조건식에 모두 만족하지 않을 때\n",
    "    print('10도 20도 아닙니다.')"
   ]
  },
  {
   "cell_type": "code",
   "execution_count": 3,
   "metadata": {},
   "outputs": [
    {
     "ename": "SyntaxError",
     "evalue": "invalid syntax (<ipython-input-3-83d8e8f7a0b8>, line 5)",
     "output_type": "error",
     "traceback": [
      "\u001b[0;36m  File \u001b[0;32m\"<ipython-input-3-83d8e8f7a0b8>\"\u001b[0;36m, line \u001b[0;32m5\u001b[0m\n\u001b[0;31m    elif x == 20:    # elif 앞에 else가 오면 잘못된 문법\u001b[0m\n\u001b[0m       ^\u001b[0m\n\u001b[0;31mSyntaxError\u001b[0m\u001b[0;31m:\u001b[0m invalid syntax\n"
     ]
    }
   ],
   "source": [
    "if x == 10:\n",
    "    print('10입니다.')\n",
    "else:\n",
    "    print('10도 20도 아닙니다.')\n",
    "elif x == 20:    # elif 앞에 else가 오면 잘못된 문법\n",
    "    print('20입니다.')"
   ]
  },
  {
   "cell_type": "code",
   "execution_count": 5,
   "metadata": {},
   "outputs": [
    {
     "name": "stdout",
     "output_type": "stream",
     "text": [
      "3\n",
      "환타\n"
     ]
    }
   ],
   "source": [
    "button = int(input())\n",
    " \n",
    "if button == 1:\n",
    "    print('콜라')\n",
    "elif button == 2:\n",
    "    print('사이다')\n",
    "elif button == 3:\n",
    "    print('환타')\n",
    "else:\n",
    "    print('제공하지 않는 메뉴')"
   ]
  },
  {
   "cell_type": "code",
   "execution_count": 6,
   "metadata": {},
   "outputs": [
    {
     "name": "stdout",
     "output_type": "stream",
     "text": [
      "5\n",
      "아무것도 해당하지 않음\n"
     ]
    }
   ],
   "source": [
    "x = int(input())\n",
    "if 11 <= x <= 20:\n",
    "    print('11~20')\n",
    "elif 21 <= x <= 30:\n",
    "    print('21~30')\n",
    "else:\n",
    "    print('아무것도 해당하지 않음')"
   ]
  },
  {
   "cell_type": "code",
   "execution_count": 7,
   "metadata": {},
   "outputs": [
    {
     "name": "stdout",
     "output_type": "stream",
     "text": [
      "Hello, world!\n",
      "Hello, world!\n",
      "Hello, world!\n",
      "Hello, world!\n",
      "Hello, world!\n",
      "Hello, world!\n",
      "Hello, world!\n",
      "Hello, world!\n",
      "Hello, world!\n",
      "Hello, world!\n",
      "Hello, world!\n",
      "Hello, world!\n",
      "Hello, world!\n",
      "Hello, world!\n",
      "Hello, world!\n",
      "Hello, world!\n",
      "Hello, world!\n",
      "Hello, world!\n",
      "Hello, world!\n",
      "Hello, world!\n",
      "Hello, world!\n",
      "Hello, world!\n",
      "Hello, world!\n",
      "Hello, world!\n",
      "Hello, world!\n",
      "Hello, world!\n",
      "Hello, world!\n",
      "Hello, world!\n",
      "Hello, world!\n",
      "Hello, world!\n",
      "Hello, world!\n",
      "Hello, world!\n",
      "Hello, world!\n",
      "Hello, world!\n",
      "Hello, world!\n",
      "Hello, world!\n",
      "Hello, world!\n",
      "Hello, world!\n",
      "Hello, world!\n",
      "Hello, world!\n",
      "Hello, world!\n",
      "Hello, world!\n",
      "Hello, world!\n",
      "Hello, world!\n",
      "Hello, world!\n",
      "Hello, world!\n",
      "Hello, world!\n",
      "Hello, world!\n",
      "Hello, world!\n",
      "Hello, world!\n",
      "Hello, world!\n",
      "Hello, world!\n",
      "Hello, world!\n",
      "Hello, world!\n",
      "Hello, world!\n",
      "Hello, world!\n",
      "Hello, world!\n",
      "Hello, world!\n",
      "Hello, world!\n",
      "Hello, world!\n",
      "Hello, world!\n",
      "Hello, world!\n",
      "Hello, world!\n",
      "Hello, world!\n",
      "Hello, world!\n",
      "Hello, world!\n",
      "Hello, world!\n",
      "Hello, world!\n",
      "Hello, world!\n",
      "Hello, world!\n",
      "Hello, world!\n",
      "Hello, world!\n",
      "Hello, world!\n",
      "Hello, world!\n",
      "Hello, world!\n",
      "Hello, world!\n",
      "Hello, world!\n",
      "Hello, world!\n",
      "Hello, world!\n",
      "Hello, world!\n",
      "Hello, world!\n",
      "Hello, world!\n",
      "Hello, world!\n",
      "Hello, world!\n",
      "Hello, world!\n",
      "Hello, world!\n",
      "Hello, world!\n",
      "Hello, world!\n",
      "Hello, world!\n",
      "Hello, world!\n",
      "Hello, world!\n",
      "Hello, world!\n",
      "Hello, world!\n",
      "Hello, world!\n",
      "Hello, world!\n",
      "Hello, world!\n",
      "Hello, world!\n",
      "Hello, world!\n",
      "Hello, world!\n",
      "Hello, world!\n"
     ]
    }
   ],
   "source": [
    "for i in range(100):\n",
    "    print('Hello, world!')"
   ]
  },
  {
   "cell_type": "code",
   "execution_count": 8,
   "metadata": {},
   "outputs": [
    {
     "name": "stdout",
     "output_type": "stream",
     "text": [
      "Hello, wolrd! 0\n",
      "Hello, wolrd! 1\n",
      "Hello, wolrd! 2\n",
      "Hello, wolrd! 3\n",
      "Hello, wolrd! 4\n",
      "Hello, wolrd! 5\n",
      "Hello, wolrd! 6\n",
      "Hello, wolrd! 7\n",
      "Hello, wolrd! 8\n",
      "Hello, wolrd! 9\n",
      "Hello, wolrd! 10\n",
      "Hello, wolrd! 11\n",
      "Hello, wolrd! 12\n",
      "Hello, wolrd! 13\n",
      "Hello, wolrd! 14\n",
      "Hello, wolrd! 15\n",
      "Hello, wolrd! 16\n",
      "Hello, wolrd! 17\n",
      "Hello, wolrd! 18\n",
      "Hello, wolrd! 19\n",
      "Hello, wolrd! 20\n",
      "Hello, wolrd! 21\n",
      "Hello, wolrd! 22\n",
      "Hello, wolrd! 23\n",
      "Hello, wolrd! 24\n",
      "Hello, wolrd! 25\n",
      "Hello, wolrd! 26\n",
      "Hello, wolrd! 27\n",
      "Hello, wolrd! 28\n",
      "Hello, wolrd! 29\n",
      "Hello, wolrd! 30\n",
      "Hello, wolrd! 31\n",
      "Hello, wolrd! 32\n",
      "Hello, wolrd! 33\n",
      "Hello, wolrd! 34\n",
      "Hello, wolrd! 35\n",
      "Hello, wolrd! 36\n",
      "Hello, wolrd! 37\n",
      "Hello, wolrd! 38\n",
      "Hello, wolrd! 39\n",
      "Hello, wolrd! 40\n",
      "Hello, wolrd! 41\n",
      "Hello, wolrd! 42\n",
      "Hello, wolrd! 43\n",
      "Hello, wolrd! 44\n",
      "Hello, wolrd! 45\n",
      "Hello, wolrd! 46\n",
      "Hello, wolrd! 47\n",
      "Hello, wolrd! 48\n",
      "Hello, wolrd! 49\n",
      "Hello, wolrd! 50\n",
      "Hello, wolrd! 51\n",
      "Hello, wolrd! 52\n",
      "Hello, wolrd! 53\n",
      "Hello, wolrd! 54\n",
      "Hello, wolrd! 55\n",
      "Hello, wolrd! 56\n",
      "Hello, wolrd! 57\n",
      "Hello, wolrd! 58\n",
      "Hello, wolrd! 59\n",
      "Hello, wolrd! 60\n",
      "Hello, wolrd! 61\n",
      "Hello, wolrd! 62\n",
      "Hello, wolrd! 63\n",
      "Hello, wolrd! 64\n",
      "Hello, wolrd! 65\n",
      "Hello, wolrd! 66\n",
      "Hello, wolrd! 67\n",
      "Hello, wolrd! 68\n",
      "Hello, wolrd! 69\n",
      "Hello, wolrd! 70\n",
      "Hello, wolrd! 71\n",
      "Hello, wolrd! 72\n",
      "Hello, wolrd! 73\n",
      "Hello, wolrd! 74\n",
      "Hello, wolrd! 75\n",
      "Hello, wolrd! 76\n",
      "Hello, wolrd! 77\n",
      "Hello, wolrd! 78\n",
      "Hello, wolrd! 79\n",
      "Hello, wolrd! 80\n",
      "Hello, wolrd! 81\n",
      "Hello, wolrd! 82\n",
      "Hello, wolrd! 83\n",
      "Hello, wolrd! 84\n",
      "Hello, wolrd! 85\n",
      "Hello, wolrd! 86\n",
      "Hello, wolrd! 87\n",
      "Hello, wolrd! 88\n",
      "Hello, wolrd! 89\n",
      "Hello, wolrd! 90\n",
      "Hello, wolrd! 91\n",
      "Hello, wolrd! 92\n",
      "Hello, wolrd! 93\n",
      "Hello, wolrd! 94\n",
      "Hello, wolrd! 95\n",
      "Hello, wolrd! 96\n",
      "Hello, wolrd! 97\n",
      "Hello, wolrd! 98\n",
      "Hello, wolrd! 99\n"
     ]
    }
   ],
   "source": [
    "for i in range(100):\n",
    "    print('Hello, wolrd!', i)"
   ]
  },
  {
   "cell_type": "code",
   "execution_count": 9,
   "metadata": {},
   "outputs": [
    {
     "name": "stdout",
     "output_type": "stream",
     "text": [
      "10\n",
      "20\n",
      "30\n",
      "40\n",
      "50\n"
     ]
    }
   ],
   "source": [
    "a = [10, 20, 30, 40, 50]\n",
    "for i in a:\n",
    "    print(i)"
   ]
  },
  {
   "cell_type": "code",
   "execution_count": 10,
   "metadata": {},
   "outputs": [
    {
     "name": "stdout",
     "output_type": "stream",
     "text": [
      "490 -170 250 1020 80 620 210 "
     ]
    }
   ],
   "source": [
    "x = [49, -17, 25, 102, 8, 62, 21]\n",
    "for i in x:\n",
    "    print(i*10, end = ' ')"
   ]
  },
  {
   "cell_type": "code",
   "execution_count": null,
   "metadata": {},
   "outputs": [],
   "source": []
  }
 ],
 "metadata": {
  "kernelspec": {
   "display_name": "Python 3",
   "language": "python",
   "name": "python3"
  },
  "language_info": {
   "codemirror_mode": {
    "name": "ipython",
    "version": 3
   },
   "file_extension": ".py",
   "mimetype": "text/x-python",
   "name": "python",
   "nbconvert_exporter": "python",
   "pygments_lexer": "ipython3",
   "version": "3.6.9"
  }
 },
 "nbformat": 4,
 "nbformat_minor": 4
}
