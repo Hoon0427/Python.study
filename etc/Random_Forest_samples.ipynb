{
 "cells": [
  {
   "cell_type": "code",
   "execution_count": 1,
   "metadata": {},
   "outputs": [],
   "source": [
    "import pandas as pd\n",
    "import numpy as np\n",
    "from sklearn.ensemble import RandomForestClassifier\n",
    "from sklearn.ensemble import VotingClassifier\n",
    "from sklearn.linear_model import LogisticRegression\n",
    "from sklearn.svm import SVC\n",
    "from sklearn.ensemble import BaggingClassifier\n",
    "from sklearn.tree import DecisionTreeClassifier\n",
    "from sklearn.model_selection import train_test_split"
   ]
  },
  {
   "cell_type": "code",
   "execution_count": 2,
   "metadata": {},
   "outputs": [],
   "source": [
    "data = pd.read_excel('/home/ekim_reverse/PyCode/study/Python.study/pre_03.xlsx')"
   ]
  },
  {
   "cell_type": "code",
   "execution_count": 3,
   "metadata": {},
   "outputs": [],
   "source": [
    "data = data.dropna(axis=0)\n",
    "diabetes = data[data['DM']==1]\n",
    "normal = data[data['DM']!=1]"
   ]
  },
  {
   "cell_type": "code",
   "execution_count": 4,
   "metadata": {},
   "outputs": [],
   "source": [
    "sample_01 = normal.sample(n=381, random_state=1)\n",
    "sample_02 = normal.sample(n=381, random_state=2)\n",
    "sample_03 = normal.sample(n=381, random_state=3)\n",
    "sample_04 = normal.sample(n=381, random_state=4)\n",
    "sample_05 = normal.sample(n=381, random_state=5)\n",
    "sample_06 = normal.sample(n=381, random_state=6)\n",
    "sample_07 = normal.sample(n=381, random_state=7)\n",
    "sample_08 = normal.sample(n=381, random_state=8)\n",
    "sample_09 = normal.sample(n=381, random_state=9)\n",
    "sample_10 = normal.sample(n=381, random_state=10)"
   ]
  },
  {
   "cell_type": "code",
   "execution_count": 5,
   "metadata": {},
   "outputs": [],
   "source": [
    "rf_01 = pd.concat([diabetes,sample_01])\n",
    "rf_02 = pd.concat([diabetes,sample_02])\n",
    "rf_03 = pd.concat([diabetes,sample_03])\n",
    "rf_04 = pd.concat([diabetes,sample_04])\n",
    "rf_05 = pd.concat([diabetes,sample_05])\n",
    "rf_06 = pd.concat([diabetes,sample_06])\n",
    "rf_07 = pd.concat([diabetes,sample_07])\n",
    "rf_08 = pd.concat([diabetes,sample_08])\n",
    "rf_09 = pd.concat([diabetes,sample_09])\n",
    "rf_10 = pd.concat([diabetes,sample_10])"
   ]
  },
  {
   "cell_type": "code",
   "execution_count": 23,
   "metadata": {},
   "outputs": [],
   "source": [
    "rnd_clf = RandomForestClassifier(n_estimators=100, random_state=42)"
   ]
  },
  {
   "cell_type": "code",
   "execution_count": 24,
   "metadata": {},
   "outputs": [
    {
     "name": "stdout",
     "output_type": "stream",
     "text": [
      "정확도 : 0.9803921568627451\n",
      "특성 중요도 : \n",
      "[0.0016461  0.02067411 0.45445525 0.16183822 0.02460066 0.02072457\n",
      " 0.02140469 0.25346002 0.04119638]\n"
     ]
    }
   ],
   "source": [
    "x = rf_01[['SEX','age','phase','glu','alt','waist','fib4','hba1c','homa']]\n",
    "y = rf_01['DM']\n",
    "\n",
    "x_train, x_test, y_train, y_test = train_test_split(x, y,  train_size=0.8, random_state=42)\n",
    "rnd_clf.fit(x_train, y_train)\n",
    "\n",
    "from sklearn import metrics\n",
    "y_pred_rf=rnd_clf.predict(x_test)\n",
    "print('정확도 :',metrics.accuracy_score(y_test,y_pred_rf))\n",
    "print(\"특성 중요도 : \\n{}\".format(rnd_clf.feature_importances_))"
   ]
  },
  {
   "cell_type": "code",
   "execution_count": null,
   "metadata": {},
   "outputs": [],
   "source": []
  },
  {
   "cell_type": "code",
   "execution_count": 25,
   "metadata": {},
   "outputs": [
    {
     "name": "stdout",
     "output_type": "stream",
     "text": [
      "정확도 : 0.9673202614379085\n",
      "특성 중요도 : \n",
      "[0.00139034 0.02584038 0.45847891 0.15385642 0.01461459 0.02233639\n",
      " 0.02075453 0.26362492 0.03910352]\n"
     ]
    }
   ],
   "source": [
    "x = rf_02[['SEX','age','phase','glu','alt','waist','fib4','hba1c','homa']]\n",
    "y = rf_02['DM']\n",
    "\n",
    "x_train, x_test, y_train, y_test = train_test_split(x, y,  train_size=0.8, random_state=42)\n",
    "rnd_clf.fit(x_train, y_train)\n",
    "\n",
    "from sklearn import metrics\n",
    "y_pred_rf=rnd_clf.predict(x_test)\n",
    "print('정확도 :',metrics.accuracy_score(y_test,y_pred_rf))\n",
    "print(\"특성 중요도 : \\n{}\".format(rnd_clf.feature_importances_))"
   ]
  },
  {
   "cell_type": "code",
   "execution_count": null,
   "metadata": {},
   "outputs": [],
   "source": []
  },
  {
   "cell_type": "code",
   "execution_count": 26,
   "metadata": {},
   "outputs": [
    {
     "name": "stdout",
     "output_type": "stream",
     "text": [
      "정확도 : 0.9803921568627451\n",
      "특성 중요도 : \n",
      "[0.00183161 0.02076329 0.47605832 0.14789451 0.0171893  0.0242727\n",
      " 0.01929929 0.24815901 0.04453197]\n"
     ]
    }
   ],
   "source": [
    "x = rf_03[['SEX','age','phase','glu','alt','waist','fib4','hba1c','homa']]\n",
    "y = rf_03['DM']\n",
    "\n",
    "x_train, x_test, y_train, y_test = train_test_split(x, y,  train_size=0.8, random_state=42)\n",
    "rnd_clf.fit(x_train, y_train)\n",
    "\n",
    "from sklearn import metrics\n",
    "y_pred_rf=rnd_clf.predict(x_test)\n",
    "print('정확도 :',metrics.accuracy_score(y_test,y_pred_rf))\n",
    "print(\"특성 중요도 : \\n{}\".format(rnd_clf.feature_importances_))"
   ]
  },
  {
   "cell_type": "code",
   "execution_count": null,
   "metadata": {},
   "outputs": [],
   "source": []
  },
  {
   "cell_type": "code",
   "execution_count": 27,
   "metadata": {},
   "outputs": [
    {
     "name": "stdout",
     "output_type": "stream",
     "text": [
      "정확도 : 0.9803921568627451\n",
      "특성 중요도 : \n",
      "[0.00215431 0.02287762 0.46271887 0.1463468  0.02210501 0.02224471\n",
      " 0.01491269 0.26808237 0.03855762]\n"
     ]
    }
   ],
   "source": [
    "x = rf_04[['SEX','age','phase','glu','alt','waist','fib4','hba1c','homa']]\n",
    "y = rf_04['DM']\n",
    "\n",
    "x_train, x_test, y_train, y_test = train_test_split(x, y,  train_size=0.8, random_state=42)\n",
    "rnd_clf.fit(x_train, y_train)\n",
    "\n",
    "from sklearn import metrics\n",
    "y_pred_rf=rnd_clf.predict(x_test)\n",
    "print('정확도 :',metrics.accuracy_score(y_test,y_pred_rf))\n",
    "print(\"특성 중요도 : \\n{}\".format(rnd_clf.feature_importances_))"
   ]
  },
  {
   "cell_type": "code",
   "execution_count": null,
   "metadata": {},
   "outputs": [],
   "source": []
  },
  {
   "cell_type": "code",
   "execution_count": 28,
   "metadata": {},
   "outputs": [
    {
     "name": "stdout",
     "output_type": "stream",
     "text": [
      "정확도 : 0.9869281045751634\n",
      "특성 중요도 : \n",
      "[0.00215341 0.01904044 0.46025261 0.1508053  0.02630638 0.0197398\n",
      " 0.01742485 0.26739972 0.03687748]\n"
     ]
    }
   ],
   "source": [
    "x = rf_05[['SEX','age','phase','glu','alt','waist','fib4','hba1c','homa']]\n",
    "y = rf_05['DM']\n",
    "\n",
    "x_train, x_test, y_train, y_test = train_test_split(x, y,  train_size=0.8, random_state=42)\n",
    "rnd_clf.fit(x_train, y_train)\n",
    "\n",
    "from sklearn import metrics\n",
    "y_pred_rf=rnd_clf.predict(x_test)\n",
    "print('정확도 :',metrics.accuracy_score(y_test,y_pred_rf))\n",
    "print(\"특성 중요도 : \\n{}\".format(rnd_clf.feature_importances_))"
   ]
  },
  {
   "cell_type": "code",
   "execution_count": null,
   "metadata": {},
   "outputs": [],
   "source": []
  },
  {
   "cell_type": "code",
   "execution_count": 29,
   "metadata": {},
   "outputs": [
    {
     "name": "stdout",
     "output_type": "stream",
     "text": [
      "정확도 : 0.9869281045751634\n",
      "특성 중요도 : \n",
      "[0.00200815 0.02081799 0.46302855 0.14358303 0.02209103 0.02530506\n",
      " 0.01787449 0.26388215 0.04140954]\n"
     ]
    }
   ],
   "source": [
    "x = rf_06[['SEX','age','phase','glu','alt','waist','fib4','hba1c','homa']]\n",
    "y = rf_06['DM']\n",
    "\n",
    "x_train, x_test, y_train, y_test = train_test_split(x, y,  train_size=0.8, random_state=42)\n",
    "rnd_clf.fit(x_train, y_train)\n",
    "\n",
    "from sklearn import metrics\n",
    "y_pred_rf=rnd_clf.predict(x_test)\n",
    "print('정확도 :',metrics.accuracy_score(y_test,y_pred_rf))\n",
    "print(\"특성 중요도 : \\n{}\".format(rnd_clf.feature_importances_))"
   ]
  },
  {
   "cell_type": "code",
   "execution_count": null,
   "metadata": {},
   "outputs": [],
   "source": []
  },
  {
   "cell_type": "code",
   "execution_count": 30,
   "metadata": {},
   "outputs": [
    {
     "name": "stdout",
     "output_type": "stream",
     "text": [
      "정확도 : 0.9673202614379085\n",
      "특성 중요도 : \n",
      "[0.00130515 0.02270736 0.46584174 0.15163995 0.01854231 0.02383036\n",
      " 0.01815967 0.26592924 0.03204421]\n"
     ]
    }
   ],
   "source": [
    "x = rf_07[['SEX','age','phase','glu','alt','waist','fib4','hba1c','homa']]\n",
    "y = rf_07['DM']\n",
    "\n",
    "x_train, x_test, y_train, y_test = train_test_split(x, y,  train_size=0.8, random_state=42)\n",
    "rnd_clf.fit(x_train, y_train)\n",
    "\n",
    "from sklearn import metrics\n",
    "y_pred_rf=rnd_clf.predict(x_test)\n",
    "print('정확도 :',metrics.accuracy_score(y_test,y_pred_rf))\n",
    "print(\"특성 중요도 : \\n{}\".format(rnd_clf.feature_importances_))"
   ]
  },
  {
   "cell_type": "code",
   "execution_count": null,
   "metadata": {},
   "outputs": [],
   "source": []
  },
  {
   "cell_type": "code",
   "execution_count": 31,
   "metadata": {},
   "outputs": [
    {
     "name": "stdout",
     "output_type": "stream",
     "text": [
      "정확도 : 0.9803921568627451\n",
      "특성 중요도 : \n",
      "[0.00212415 0.02200224 0.45853224 0.15778843 0.01901017 0.02287696\n",
      " 0.02181658 0.26101582 0.03483342]\n"
     ]
    }
   ],
   "source": [
    "x = rf_08[['SEX','age','phase','glu','alt','waist','fib4','hba1c','homa']]\n",
    "y = rf_08['DM']\n",
    "\n",
    "x_train, x_test, y_train, y_test = train_test_split(x, y,  train_size=0.8, random_state=42)\n",
    "rnd_clf.fit(x_train, y_train)\n",
    "\n",
    "from sklearn import metrics\n",
    "y_pred_rf=rnd_clf.predict(x_test)\n",
    "print('정확도 :',metrics.accuracy_score(y_test,y_pred_rf))\n",
    "print(\"특성 중요도 : \\n{}\".format(rnd_clf.feature_importances_))"
   ]
  },
  {
   "cell_type": "code",
   "execution_count": null,
   "metadata": {},
   "outputs": [],
   "source": []
  },
  {
   "cell_type": "code",
   "execution_count": 32,
   "metadata": {},
   "outputs": [
    {
     "name": "stdout",
     "output_type": "stream",
     "text": [
      "정확도 : 0.9738562091503268\n",
      "특성 중요도 : \n",
      "[0.00225916 0.02081492 0.46261377 0.1625566  0.02551949 0.01970097\n",
      " 0.01866835 0.25105759 0.03680916]\n"
     ]
    }
   ],
   "source": [
    "x = rf_09[['SEX','age','phase','glu','alt','waist','fib4','hba1c','homa']]\n",
    "y = rf_09['DM']\n",
    "\n",
    "x_train, x_test, y_train, y_test = train_test_split(x, y,  train_size=0.8, random_state=42)\n",
    "rnd_clf.fit(x_train, y_train)\n",
    "\n",
    "from sklearn import metrics\n",
    "y_pred_rf=rnd_clf.predict(x_test)\n",
    "print('정확도 :',metrics.accuracy_score(y_test,y_pred_rf))\n",
    "print(\"특성 중요도 : \\n{}\".format(rnd_clf.feature_importances_))"
   ]
  },
  {
   "cell_type": "code",
   "execution_count": null,
   "metadata": {},
   "outputs": [],
   "source": []
  },
  {
   "cell_type": "code",
   "execution_count": 33,
   "metadata": {},
   "outputs": [
    {
     "name": "stdout",
     "output_type": "stream",
     "text": [
      "정확도 : 0.9738562091503268\n",
      "특성 중요도 : \n",
      "[0.00140699 0.02181746 0.46376549 0.15392162 0.02510038 0.02345661\n",
      " 0.01756759 0.25582521 0.03713864]\n"
     ]
    }
   ],
   "source": [
    "x = rf_10[['SEX','age','phase','glu','alt','waist','fib4','hba1c','homa']]\n",
    "y = rf_10['DM']\n",
    "\n",
    "x_train, x_test, y_train, y_test = train_test_split(x, y,  train_size=0.8, random_state=42)\n",
    "rnd_clf.fit(x_train, y_train)\n",
    "\n",
    "from sklearn import metrics\n",
    "y_pred_rf=rnd_clf.predict(x_test)\n",
    "print('정확도 :',metrics.accuracy_score(y_test,y_pred_rf))\n",
    "print(\"특성 중요도 : \\n{}\".format(rnd_clf.feature_importances_))"
   ]
  },
  {
   "cell_type": "code",
   "execution_count": null,
   "metadata": {},
   "outputs": [],
   "source": []
  }
 ],
 "metadata": {
  "kernelspec": {
   "display_name": "Python 3",
   "language": "python",
   "name": "python3"
  },
  "language_info": {
   "codemirror_mode": {
    "name": "ipython",
    "version": 3
   },
   "file_extension": ".py",
   "mimetype": "text/x-python",
   "name": "python",
   "nbconvert_exporter": "python",
   "pygments_lexer": "ipython3",
   "version": "3.6.9"
  }
 },
 "nbformat": 4,
 "nbformat_minor": 4
}
