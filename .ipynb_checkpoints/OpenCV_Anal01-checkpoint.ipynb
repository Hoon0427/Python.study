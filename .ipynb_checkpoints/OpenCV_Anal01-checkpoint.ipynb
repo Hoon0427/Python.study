{
 "cells": [
  {
   "cell_type": "code",
   "execution_count": 1,
   "metadata": {},
   "outputs": [],
   "source": [
    "import cv2\n",
    "import numpy as np\n",
    "import matplotlib.pylab as plt\n",
    "# %matplotlib inline"
   ]
  },
  {
   "cell_type": "code",
   "execution_count": null,
   "metadata": {},
   "outputs": [],
   "source": [
    "img = cv2.imread('/home/ncyc-admin/Project/Beauty/File/Face_Right/01_R.jpg')\n",
    "cv2.imshow('img', img)\n",
    "cv2.waitKey()\n",
    "cv2.destroyAllWindows()"
   ]
  },
  {
   "cell_type": "markdown",
   "metadata": {},
   "source": [
    "#흑백 히스토그램 그리기"
   ]
  },
  {
   "cell_type": "code",
   "execution_count": null,
   "metadata": {},
   "outputs": [],
   "source": [
    "hist = cv2.calcHist([img], [0], None, [256], [0,256])\n",
    "plt.plot(hist)"
   ]
  },
  {
   "cell_type": "code",
   "execution_count": null,
   "metadata": {},
   "outputs": [],
   "source": [
    "print(hist.shape)\n",
    "print(hist.sum(), img.shape)\n",
    "plt.show()"
   ]
  },
  {
   "cell_type": "markdown",
   "metadata": {},
   "source": [
    "#컬러 히스토그램 그리기"
   ]
  },
  {
   "cell_type": "code",
   "execution_count": null,
   "metadata": {},
   "outputs": [],
   "source": [
    "channels = cv2.split(img)\n",
    "colors = ('b','g','r')\n",
    "for (ch, color) in zip (channels, colors):\n",
    "    hist = cv2.calcHist([ch], [0], None, [256], [0,256])\n",
    "    plt.plot(hist, color = color)\n",
    "plt.show()"
   ]
  },
  {
   "cell_type": "markdown",
   "metadata": {},
   "source": [
    "  #2D 히스토그램  "
   ]
  },
  {
   "cell_type": "code",
   "execution_count": null,
   "metadata": {},
   "outputs": [],
   "source": [
    "plt.style.use('classic')\n",
    "img = cv2.imread('part_spray_m0_left02.jpg')\n",
    "cv2.imshow('img', img)\n",
    "cv2.waitKey()\n",
    "cv2.destroyAllWindows()"
   ]
  },
  {
   "cell_type": "code",
   "execution_count": null,
   "metadata": {},
   "outputs": [],
   "source": [
    "plt.subplot(131)\n",
    "hist = cv2.calcHist([img], [0,1], None, [32,32], [0,256,0,256])\n",
    "p = plt.imshow(hist)\n",
    "plt.title('Blue and Green')\n",
    "plt.colorbar(p)\n",
    "\n",
    "plt.subplot(132)\n",
    "hist = cv2.calcHist([img], [1,2], None, [32,32], [0,256,0,256])\n",
    "p = plt.imshow(hist)\n",
    "plt.title('Green and Red')\n",
    "plt.colorbar(p)\n",
    "\n",
    "plt.subplot(133)\n",
    "hist = cv2.calcHist([img], [0,2], None, [32,32], [0,256,0,256])\n",
    "p = plt.imshow(hist)\n",
    "plt.title('Blue and Red')\n",
    "plt.colorbar(p)"
   ]
  },
  {
   "cell_type": "markdown",
   "metadata": {},
   "source": [
    "#미분커널로 경계 검출"
   ]
  },
  {
   "cell_type": "code",
   "execution_count": null,
   "metadata": {},
   "outputs": [],
   "source": [
    "gx_kernel = np.array([[-1,1]])\n",
    "gy_kernel = np.array([[-1],[1]])\n",
    "\n",
    "edge_gx = cv2.filter2D(img, -1, gx_kernel)\n",
    "edge_gy = cv2.filter2D(img, -1, gy_kernel)\n",
    "\n",
    "merged = np.hstack((img, edge_gx, edge_gy))\n",
    "cv2.imshow('edge', merged)\n",
    "cv2.waitKey(0)\n",
    "cv2.destroyAllWindows()"
   ]
  },
  {
   "cell_type": "markdown",
   "metadata": {},
   "source": [
    "#로버츠 마스크를 적용한 경계 검출"
   ]
  },
  {
   "cell_type": "code",
   "execution_count": null,
   "metadata": {},
   "outputs": [],
   "source": [
    "gx_kernel = np.array([[1,0],[0,-1]])\n",
    "gy_kernel = np.array([[0,1],[-1,0]])\n",
    "\n",
    "edge_gx = cv2.filter2D(img, -1, gx_kernel)\n",
    "edge_gy = cv2.filter2D(img, -1, gy_kernel)\n",
    "\n",
    "merged = np.hstack((img, edge_gx, edge_gy, edge_gx+edge_gy))\n",
    "cv2.imshow('roberts cross', merged)\n",
    "cv2.waitKey(0)\n",
    "cv2.destroyAllWindows()"
   ]
  },
  {
   "cell_type": "markdown",
   "metadata": {},
   "source": [
    "#소벨 마스크를 적용한 경계 검출"
   ]
  },
  {
   "cell_type": "code",
   "execution_count": null,
   "metadata": {},
   "outputs": [],
   "source": [
    "gx_k = np.array([[-1,0,1],[-2,0,2],[-1,0,1]])\n",
    "gy_k = np.array([[-1,-2,-1],[0,0,0],[1,2,1]])\n",
    "\n",
    "edge_gx = cv2.filter2D(img, -1, gx_k)\n",
    "edge_gy = cv2.filter2D(img, -1, gy_k)\n",
    "\n",
    "sobelx = cv2.Sobel(img, -1, 1, 0, ksize=3)\n",
    "sobely = cv2.Sobel(img, -1, 0, 1, ksize=3)\n",
    "\n",
    "merged1 = np.hstack((img, edge_gx, edge_gy, edge_gx+edge_gy))\n",
    "merged2= np.hstack((img, sobelx, sobely, sobelx+sobely))\n",
    "merged = np.vstack((merged1, merged2))\n",
    "\n",
    "cv2.imshow('sobel', merged)\n",
    "cv2.waitKey(0)\n",
    "cv2.destroyAllWindows()"
   ]
  },
  {
   "cell_type": "markdown",
   "metadata": {},
   "source": [
    "#캐니 엣지"
   ]
  },
  {
   "cell_type": "code",
   "execution_count": null,
   "metadata": {},
   "outputs": [],
   "source": [
    "edges = cv2.Canny(img, 100, 200)\n",
    "\n",
    "cv2.imshow('Original', img)\n",
    "cv2.imshow('Canny', edges)\n",
    "cv2.waitKey(0)\n",
    "cv2.destroyAllWindows()"
   ]
  },
  {
   "cell_type": "markdown",
   "metadata": {},
   "source": [
    "#침식 연산"
   ]
  },
  {
   "cell_type": "code",
   "execution_count": null,
   "metadata": {},
   "outputs": [],
   "source": [
    "k = cv2.getStructuringElement(cv2.MORPH_RECT, (3,3))\n",
    "erosion = cv2.erode(img, k)"
   ]
  },
  {
   "cell_type": "code",
   "execution_count": null,
   "metadata": {},
   "outputs": [],
   "source": [
    "merged = np.hstack((img, erosion))\n",
    "\n",
    "cv2.imshow('Erode', merged)\n",
    "cv2.waitKey(0)\n",
    "cv2.destroyAllWindows()"
   ]
  },
  {
   "cell_type": "markdown",
   "metadata": {},
   "source": [
    "#모폴로지 탑햇, 블랙햇 연산"
   ]
  },
  {
   "cell_type": "code",
   "execution_count": null,
   "metadata": {},
   "outputs": [],
   "source": [
    "k = cv2.getStructuringElement(cv2.MORPH_RECT, (9,9))\n",
    "\n",
    "tophat = cv2.morphologyEx(img, cv2.MORPH_TOPHAT, k)\n",
    "\n",
    "blackhat = cv2.morphologyEx(img, cv2.MORPH_BLACKHAT, k)"
   ]
  },
  {
   "cell_type": "code",
   "execution_count": null,
   "metadata": {},
   "outputs": [],
   "source": [
    "merged = np.hstack((img, tophat, blackhat))\n",
    "\n",
    "cv2.imshow('tophat, blackhat', merged)\n",
    "cv2.waitKey(0)\n",
    "cv2.destroyAllWindows()"
   ]
  },
  {
   "cell_type": "code",
   "execution_count": null,
   "metadata": {},
   "outputs": [],
   "source": []
  }
 ],
 "metadata": {
  "kernelspec": {
   "display_name": "Python 3",
   "language": "python",
   "name": "python3"
  },
  "language_info": {
   "codemirror_mode": {
    "name": "ipython",
    "version": 3
   },
   "file_extension": ".py",
   "mimetype": "text/x-python",
   "name": "python",
   "nbconvert_exporter": "python",
   "pygments_lexer": "ipython3",
   "version": "3.8.2"
  }
 },
 "nbformat": 4,
 "nbformat_minor": 2
}
