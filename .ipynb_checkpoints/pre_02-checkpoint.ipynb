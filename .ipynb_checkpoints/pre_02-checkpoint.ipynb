{
 "cells": [
  {
   "cell_type": "code",
   "execution_count": 1,
   "metadata": {},
   "outputs": [],
   "source": [
    "import pandas as pd\n",
    "import numpy as np"
   ]
  },
  {
   "cell_type": "code",
   "execution_count": 2,
   "metadata": {},
   "outputs": [],
   "source": [
    "data = pd.read_excel('/home/ncyc-admin/Project/The_Moagen/File/DATA_20191210_prep4.xlsx')"
   ]
  },
  {
   "cell_type": "code",
   "execution_count": 3,
   "metadata": {},
   "outputs": [
    {
     "data": {
      "text/html": [
       "<div>\n",
       "<style scoped>\n",
       "    .dataframe tbody tr th:only-of-type {\n",
       "        vertical-align: middle;\n",
       "    }\n",
       "\n",
       "    .dataframe tbody tr th {\n",
       "        vertical-align: top;\n",
       "    }\n",
       "\n",
       "    .dataframe thead th {\n",
       "        text-align: right;\n",
       "    }\n",
       "</style>\n",
       "<table border=\"1\" class=\"dataframe\">\n",
       "  <thead>\n",
       "    <tr style=\"text-align: right;\">\n",
       "      <th></th>\n",
       "      <th>RID</th>\n",
       "      <th>DM</th>\n",
       "      <th>SEX</th>\n",
       "      <th>age</th>\n",
       "      <th>phase</th>\n",
       "      <th>AS1_GLU</th>\n",
       "      <th>AS2_GLU</th>\n",
       "      <th>AS3_GLU</th>\n",
       "      <th>AS4_GLU</th>\n",
       "      <th>AS5_GLU</th>\n",
       "      <th>...</th>\n",
       "      <th>AS5_DM</th>\n",
       "      <th>AS6_DM</th>\n",
       "      <th>AS7_DM</th>\n",
       "      <th>AS1_HOMA</th>\n",
       "      <th>AS2_HOMA</th>\n",
       "      <th>AS3_HOMA</th>\n",
       "      <th>AS4_HOMA</th>\n",
       "      <th>AS5_HOMA</th>\n",
       "      <th>AS6_HOMA</th>\n",
       "      <th>AS7_HOMA</th>\n",
       "    </tr>\n",
       "  </thead>\n",
       "  <tbody>\n",
       "    <tr>\n",
       "      <th>0</th>\n",
       "      <td>EPI18_079_000033</td>\n",
       "      <td>1</td>\n",
       "      <td>1</td>\n",
       "      <td>48</td>\n",
       "      <td>4</td>\n",
       "      <td>104.0</td>\n",
       "      <td>113</td>\n",
       "      <td>121</td>\n",
       "      <td>140</td>\n",
       "      <td>109</td>\n",
       "      <td>...</td>\n",
       "      <td>1</td>\n",
       "      <td>1</td>\n",
       "      <td>1</td>\n",
       "      <td>1.335309</td>\n",
       "      <td>1.340000</td>\n",
       "      <td>1.830000</td>\n",
       "      <td>2.316049</td>\n",
       "      <td>1.399506</td>\n",
       "      <td>1.659259</td>\n",
       "      <td>2.082963</td>\n",
       "    </tr>\n",
       "    <tr>\n",
       "      <th>1</th>\n",
       "      <td>EPI18_079_000051</td>\n",
       "      <td>1</td>\n",
       "      <td>2</td>\n",
       "      <td>73</td>\n",
       "      <td>3</td>\n",
       "      <td>83.0</td>\n",
       "      <td>99</td>\n",
       "      <td>104</td>\n",
       "      <td>108</td>\n",
       "      <td>83</td>\n",
       "      <td>...</td>\n",
       "      <td>1</td>\n",
       "      <td>1</td>\n",
       "      <td>1</td>\n",
       "      <td>1.578025</td>\n",
       "      <td>1.980000</td>\n",
       "      <td>1.753086</td>\n",
       "      <td>4.080000</td>\n",
       "      <td>1.598519</td>\n",
       "      <td>1.866667</td>\n",
       "      <td>3.899259</td>\n",
       "    </tr>\n",
       "    <tr>\n",
       "      <th>2</th>\n",
       "      <td>EPI18_079_000069</td>\n",
       "      <td>1</td>\n",
       "      <td>1</td>\n",
       "      <td>52</td>\n",
       "      <td>2</td>\n",
       "      <td>82.0</td>\n",
       "      <td>138</td>\n",
       "      <td>100</td>\n",
       "      <td>91</td>\n",
       "      <td>96</td>\n",
       "      <td>...</td>\n",
       "      <td>1</td>\n",
       "      <td>1</td>\n",
       "      <td>1</td>\n",
       "      <td>2.247407</td>\n",
       "      <td>3.645926</td>\n",
       "      <td>2.469136</td>\n",
       "      <td>1.954815</td>\n",
       "      <td>1.991111</td>\n",
       "      <td>1.836296</td>\n",
       "      <td>2.097778</td>\n",
       "    </tr>\n",
       "    <tr>\n",
       "      <th>3</th>\n",
       "      <td>EPI18_079_000075</td>\n",
       "      <td>1</td>\n",
       "      <td>2</td>\n",
       "      <td>58</td>\n",
       "      <td>6</td>\n",
       "      <td>82.0</td>\n",
       "      <td>89</td>\n",
       "      <td>100</td>\n",
       "      <td>99</td>\n",
       "      <td>104</td>\n",
       "      <td>...</td>\n",
       "      <td>0</td>\n",
       "      <td>1</td>\n",
       "      <td>1</td>\n",
       "      <td>0.749136</td>\n",
       "      <td>3.823704</td>\n",
       "      <td>2.754321</td>\n",
       "      <td>3.568889</td>\n",
       "      <td>3.826173</td>\n",
       "      <td>2.758519</td>\n",
       "      <td>5.557778</td>\n",
       "    </tr>\n",
       "    <tr>\n",
       "      <th>4</th>\n",
       "      <td>EPI18_079_000126</td>\n",
       "      <td>1</td>\n",
       "      <td>2</td>\n",
       "      <td>50</td>\n",
       "      <td>4</td>\n",
       "      <td>89.0</td>\n",
       "      <td>103</td>\n",
       "      <td>115</td>\n",
       "      <td>132</td>\n",
       "      <td>123</td>\n",
       "      <td>...</td>\n",
       "      <td>1</td>\n",
       "      <td>1</td>\n",
       "      <td>1</td>\n",
       "      <td>1.186667</td>\n",
       "      <td>3.128148</td>\n",
       "      <td>0.792593</td>\n",
       "      <td>3.454815</td>\n",
       "      <td>2.551111</td>\n",
       "      <td>2.022222</td>\n",
       "      <td>2.720000</td>\n",
       "    </tr>\n",
       "  </tbody>\n",
       "</table>\n",
       "<p>5 rows × 61 columns</p>\n",
       "</div>"
      ],
      "text/plain": [
       "                RID  DM  SEX  age  phase  AS1_GLU  AS2_GLU  AS3_GLU  AS4_GLU  \\\n",
       "0  EPI18_079_000033   1    1   48      4    104.0      113      121      140   \n",
       "1  EPI18_079_000051   1    2   73      3     83.0       99      104      108   \n",
       "2  EPI18_079_000069   1    1   52      2     82.0      138      100       91   \n",
       "3  EPI18_079_000075   1    2   58      6     82.0       89      100       99   \n",
       "4  EPI18_079_000126   1    2   50      4     89.0      103      115      132   \n",
       "\n",
       "   AS5_GLU  ...  AS5_DM  AS6_DM  AS7_DM  AS1_HOMA  AS2_HOMA  AS3_HOMA  \\\n",
       "0      109  ...       1       1       1  1.335309  1.340000  1.830000   \n",
       "1       83  ...       1       1       1  1.578025  1.980000  1.753086   \n",
       "2       96  ...       1       1       1  2.247407  3.645926  2.469136   \n",
       "3      104  ...       0       1       1  0.749136  3.823704  2.754321   \n",
       "4      123  ...       1       1       1  1.186667  3.128148  0.792593   \n",
       "\n",
       "   AS4_HOMA  AS5_HOMA  AS6_HOMA  AS7_HOMA  \n",
       "0  2.316049  1.399506  1.659259  2.082963  \n",
       "1  4.080000  1.598519  1.866667  3.899259  \n",
       "2  1.954815  1.991111  1.836296  2.097778  \n",
       "3  3.568889  3.826173  2.758519  5.557778  \n",
       "4  3.454815  2.551111  2.022222  2.720000  \n",
       "\n",
       "[5 rows x 61 columns]"
      ]
     },
     "execution_count": 3,
     "metadata": {},
     "output_type": "execute_result"
    }
   ],
   "source": [
    "data.head()"
   ]
  },
  {
   "cell_type": "code",
   "execution_count": 4,
   "metadata": {},
   "outputs": [],
   "source": [
    "gluList = data.loc[:,\"AS1_GLU\":\"AS7_GLU\"]\n",
    "altList = data.loc[:,\"AS1_ALT\":\"AS7_ALT\"]\n",
    "tgList = data.loc[:,\"AS1_TG\":\"AS7_TG\"]\n",
    "waistList = data.loc[:,\"AS1_WAIST\":\"AS7_WAIST\"]\n",
    "fib4List = data.loc[:,\"AS1_FIB4\":\"AS7_FIB4\"]\n",
    "hba1cList = data.loc[:,\"AS1_HBA1C\":\"AS7_HBA1C\"]\n",
    "homaList = data.loc[:,\"AS1_HOMA\":\"AS7_HOMA\"]"
   ]
  },
  {
   "cell_type": "code",
   "execution_count": 12,
   "metadata": {
    "scrolled": true
   },
   "outputs": [
    {
     "data": {
      "text/html": [
       "<div>\n",
       "<style scoped>\n",
       "    .dataframe tbody tr th:only-of-type {\n",
       "        vertical-align: middle;\n",
       "    }\n",
       "\n",
       "    .dataframe tbody tr th {\n",
       "        vertical-align: top;\n",
       "    }\n",
       "\n",
       "    .dataframe thead th {\n",
       "        text-align: right;\n",
       "    }\n",
       "</style>\n",
       "<table border=\"1\" class=\"dataframe\">\n",
       "  <thead>\n",
       "    <tr style=\"text-align: right;\">\n",
       "      <th></th>\n",
       "      <th>AS1_GLU</th>\n",
       "      <th>AS2_GLU</th>\n",
       "      <th>AS3_GLU</th>\n",
       "      <th>AS4_GLU</th>\n",
       "      <th>AS5_GLU</th>\n",
       "      <th>AS6_GLU</th>\n",
       "      <th>AS7_GLU</th>\n",
       "    </tr>\n",
       "  </thead>\n",
       "  <tbody>\n",
       "    <tr>\n",
       "      <th>0</th>\n",
       "      <td>104.0</td>\n",
       "      <td>113</td>\n",
       "      <td>121</td>\n",
       "      <td>140</td>\n",
       "      <td>109</td>\n",
       "      <td>105</td>\n",
       "      <td>114</td>\n",
       "    </tr>\n",
       "    <tr>\n",
       "      <th>1</th>\n",
       "      <td>83.0</td>\n",
       "      <td>99</td>\n",
       "      <td>104</td>\n",
       "      <td>108</td>\n",
       "      <td>83</td>\n",
       "      <td>90</td>\n",
       "      <td>112</td>\n",
       "    </tr>\n",
       "    <tr>\n",
       "      <th>2</th>\n",
       "      <td>82.0</td>\n",
       "      <td>138</td>\n",
       "      <td>100</td>\n",
       "      <td>91</td>\n",
       "      <td>96</td>\n",
       "      <td>111</td>\n",
       "      <td>118</td>\n",
       "    </tr>\n",
       "    <tr>\n",
       "      <th>3</th>\n",
       "      <td>82.0</td>\n",
       "      <td>89</td>\n",
       "      <td>100</td>\n",
       "      <td>99</td>\n",
       "      <td>104</td>\n",
       "      <td>98</td>\n",
       "      <td>123</td>\n",
       "    </tr>\n",
       "    <tr>\n",
       "      <th>4</th>\n",
       "      <td>89.0</td>\n",
       "      <td>103</td>\n",
       "      <td>115</td>\n",
       "      <td>132</td>\n",
       "      <td>123</td>\n",
       "      <td>126</td>\n",
       "      <td>136</td>\n",
       "    </tr>\n",
       "    <tr>\n",
       "      <th>...</th>\n",
       "      <td>...</td>\n",
       "      <td>...</td>\n",
       "      <td>...</td>\n",
       "      <td>...</td>\n",
       "      <td>...</td>\n",
       "      <td>...</td>\n",
       "      <td>...</td>\n",
       "    </tr>\n",
       "    <tr>\n",
       "      <th>3042</th>\n",
       "      <td>78.0</td>\n",
       "      <td>81</td>\n",
       "      <td>110</td>\n",
       "      <td>87</td>\n",
       "      <td>91</td>\n",
       "      <td>93</td>\n",
       "      <td>82</td>\n",
       "    </tr>\n",
       "    <tr>\n",
       "      <th>3043</th>\n",
       "      <td>86.0</td>\n",
       "      <td>91</td>\n",
       "      <td>87</td>\n",
       "      <td>95</td>\n",
       "      <td>92</td>\n",
       "      <td>88</td>\n",
       "      <td>93</td>\n",
       "    </tr>\n",
       "    <tr>\n",
       "      <th>3044</th>\n",
       "      <td>94.0</td>\n",
       "      <td>97</td>\n",
       "      <td>82</td>\n",
       "      <td>90</td>\n",
       "      <td>98</td>\n",
       "      <td>92</td>\n",
       "      <td>92</td>\n",
       "    </tr>\n",
       "    <tr>\n",
       "      <th>3045</th>\n",
       "      <td>89.0</td>\n",
       "      <td>88</td>\n",
       "      <td>80</td>\n",
       "      <td>87</td>\n",
       "      <td>89</td>\n",
       "      <td>97</td>\n",
       "      <td>90</td>\n",
       "    </tr>\n",
       "    <tr>\n",
       "      <th>3046</th>\n",
       "      <td>80.0</td>\n",
       "      <td>92</td>\n",
       "      <td>87</td>\n",
       "      <td>87</td>\n",
       "      <td>92</td>\n",
       "      <td>88</td>\n",
       "      <td>88</td>\n",
       "    </tr>\n",
       "  </tbody>\n",
       "</table>\n",
       "<p>3047 rows × 7 columns</p>\n",
       "</div>"
      ],
      "text/plain": [
       "      AS1_GLU  AS2_GLU  AS3_GLU  AS4_GLU  AS5_GLU  AS6_GLU  AS7_GLU\n",
       "0       104.0      113      121      140      109      105      114\n",
       "1        83.0       99      104      108       83       90      112\n",
       "2        82.0      138      100       91       96      111      118\n",
       "3        82.0       89      100       99      104       98      123\n",
       "4        89.0      103      115      132      123      126      136\n",
       "...       ...      ...      ...      ...      ...      ...      ...\n",
       "3042     78.0       81      110       87       91       93       82\n",
       "3043     86.0       91       87       95       92       88       93\n",
       "3044     94.0       97       82       90       98       92       92\n",
       "3045     89.0       88       80       87       89       97       90\n",
       "3046     80.0       92       87       87       92       88       88\n",
       "\n",
       "[3047 rows x 7 columns]"
      ]
     },
     "execution_count": 12,
     "metadata": {},
     "output_type": "execute_result"
    }
   ],
   "source": [
    "gluList"
   ]
  },
  {
   "cell_type": "code",
   "execution_count": 5,
   "metadata": {},
   "outputs": [],
   "source": [
    "df=pd.DataFrame()"
   ]
  },
  {
   "cell_type": "code",
   "execution_count": 17,
   "metadata": {},
   "outputs": [
    {
     "data": {
      "text/plain": [
       "4"
      ]
     },
     "execution_count": 17,
     "metadata": {},
     "output_type": "execute_result"
    }
   ],
   "source": [
    "data[\"phase\"][0]"
   ]
  },
  {
   "cell_type": "code",
   "execution_count": 22,
   "metadata": {
    "scrolled": true
   },
   "outputs": [
    {
     "data": {
      "text/plain": [
       "array([False, False, False, False, False, False, False])"
      ]
     },
     "execution_count": 22,
     "metadata": {},
     "output_type": "execute_result"
    }
   ],
   "source": [
    "data[\"phase\"][0]==gluList.columns"
   ]
  },
  {
   "cell_type": "code",
   "execution_count": 23,
   "metadata": {},
   "outputs": [
    {
     "data": {
      "text/plain": [
       "Index(['AS1_GLU', 'AS2_GLU', 'AS3_GLU', 'AS4_GLU', 'AS5_GLU', 'AS6_GLU',\n",
       "       'AS7_GLU'],\n",
       "      dtype='object')"
      ]
     },
     "execution_count": 23,
     "metadata": {},
     "output_type": "execute_result"
    }
   ],
   "source": [
    "gluList.columns"
   ]
  },
  {
   "cell_type": "code",
   "execution_count": 48,
   "metadata": {},
   "outputs": [],
   "source": [
    "gluList.columns = [1,2,3,4,5,6,7]\n",
    "altList.columns = [1,2,3,4,5,6,7]\n",
    "tgList.columns = [1,2,3,4,5,6,7]\n",
    "waistList.columns = [1,2,3,4,5,6,7]\n",
    "fib4List.columns = [1,2,3,4,5,6,7]\n",
    "hba1cList.columns = [1,2,3,4,5,6,7]\n",
    "homaList.columns = [1,2,3,4,5,6,7]"
   ]
  },
  {
   "cell_type": "code",
   "execution_count": 25,
   "metadata": {},
   "outputs": [
    {
     "data": {
      "text/plain": [
       "Int64Index([1, 2, 3, 4, 5, 6, 7], dtype='int64')"
      ]
     },
     "execution_count": 25,
     "metadata": {},
     "output_type": "execute_result"
    }
   ],
   "source": [
    "gluList.columns"
   ]
  },
  {
   "cell_type": "code",
   "execution_count": 26,
   "metadata": {
    "scrolled": true
   },
   "outputs": [
    {
     "data": {
      "text/plain": [
       "array([False, False, False,  True, False, False, False])"
      ]
     },
     "execution_count": 26,
     "metadata": {},
     "output_type": "execute_result"
    }
   ],
   "source": [
    "data[\"phase\"][0]==gluList.columns"
   ]
  },
  {
   "cell_type": "code",
   "execution_count": 36,
   "metadata": {},
   "outputs": [
    {
     "data": {
      "text/plain": [
       "140"
      ]
     },
     "execution_count": 36,
     "metadata": {},
     "output_type": "execute_result"
    }
   ],
   "source": [
    "gluList[4][0]"
   ]
  },
  {
   "cell_type": "code",
   "execution_count": 38,
   "metadata": {},
   "outputs": [
    {
     "data": {
      "text/plain": [
       "5"
      ]
     },
     "execution_count": 38,
     "metadata": {},
     "output_type": "execute_result"
    }
   ],
   "source": [
    "gluList.columns[4]"
   ]
  },
  {
   "cell_type": "code",
   "execution_count": null,
   "metadata": {},
   "outputs": [],
   "source": []
  },
  {
   "cell_type": "code",
   "execution_count": null,
   "metadata": {},
   "outputs": [],
   "source": []
  },
  {
   "cell_type": "code",
   "execution_count": 52,
   "metadata": {
    "scrolled": true
   },
   "outputs": [
    {
     "name": "stdout",
     "output_type": "stream",
     "text": [
      "       glu   alt\n",
      "0     19.0 -31.0\n",
      "1      5.0   4.0\n",
      "2     56.0   3.0\n",
      "3     -6.0 -17.0\n",
      "4     17.0  -2.0\n",
      "...    ...   ...\n",
      "3042 -11.0 -11.0\n",
      "3043   5.0   3.0\n",
      "3044   0.0  22.0\n",
      "3045  -7.0   1.0\n",
      "3046   0.0  43.0\n",
      "\n",
      "[3047 rows x 2 columns]\n"
     ]
    }
   ],
   "source": [
    "endData = []\n",
    "for i in range(len(gluList)):\n",
    "    for j in range(len(gluList.columns)):\n",
    "        if data[\"phase\"][i]==gluList.columns[j]:\n",
    "            endData.append(gluList[j+1][i]-gluList[j][i])\n",
    "df['glu'] = endData\n",
    "print(df)"
   ]
  },
  {
   "cell_type": "code",
   "execution_count": 53,
   "metadata": {
    "scrolled": true
   },
   "outputs": [
    {
     "name": "stdout",
     "output_type": "stream",
     "text": [
      "       glu   alt\n",
      "0     19.0 -31.0\n",
      "1      5.0   4.0\n",
      "2     56.0   3.0\n",
      "3     -6.0 -17.0\n",
      "4     17.0  -2.0\n",
      "...    ...   ...\n",
      "3042 -11.0 -11.0\n",
      "3043   5.0   3.0\n",
      "3044   0.0  22.0\n",
      "3045  -7.0   1.0\n",
      "3046   0.0  43.0\n",
      "\n",
      "[3047 rows x 2 columns]\n"
     ]
    }
   ],
   "source": [
    "endData = []\n",
    "for i in range(len(altList)):\n",
    "    for j in range(len(altList.columns)):\n",
    "        if data[\"phase\"][i]==altList.columns[j]:\n",
    "            endData.append(altList[j+1][i]-altList[j][i])\n",
    "df['alt'] = endData\n",
    "print(df)"
   ]
  },
  {
   "cell_type": "code",
   "execution_count": 54,
   "metadata": {
    "scrolled": true
   },
   "outputs": [
    {
     "name": "stdout",
     "output_type": "stream",
     "text": [
      "       glu   alt     tg\n",
      "0     19.0 -31.0   45.0\n",
      "1      5.0   4.0  -53.0\n",
      "2     56.0   3.0   41.0\n",
      "3     -6.0 -17.0  174.0\n",
      "4     17.0  -2.0  -43.0\n",
      "...    ...   ...    ...\n",
      "3042 -11.0 -11.0  -81.0\n",
      "3043   5.0   3.0   -8.0\n",
      "3044   0.0  22.0    7.0\n",
      "3045  -7.0   1.0  -21.0\n",
      "3046   0.0  43.0   -7.0\n",
      "\n",
      "[3047 rows x 3 columns]\n"
     ]
    }
   ],
   "source": [
    "endData = []\n",
    "for i in range(len(tgList)):\n",
    "    for j in range(len(tgList.columns)):\n",
    "        if data[\"phase\"][i]==tgList.columns[j]:\n",
    "            endData.append(tgList[j+1][i]-tgList[j][i])\n",
    "df['tg'] = endData\n",
    "print(df)"
   ]
  },
  {
   "cell_type": "code",
   "execution_count": 55,
   "metadata": {},
   "outputs": [
    {
     "name": "stdout",
     "output_type": "stream",
     "text": [
      "       glu   alt     tg     waist\n",
      "0     19.0 -31.0   45.0 -2.200000\n",
      "1      5.0   4.0  -53.0 -2.300000\n",
      "2     56.0   3.0   41.0  4.800000\n",
      "3     -6.0 -17.0  174.0 -5.366667\n",
      "4     17.0  -2.0  -43.0  1.733333\n",
      "...    ...   ...    ...       ...\n",
      "3042 -11.0 -11.0  -81.0  5.500000\n",
      "3043   5.0   3.0   -8.0  6.700000\n",
      "3044   0.0  22.0    7.0 -1.200000\n",
      "3045  -7.0   1.0  -21.0  5.200000\n",
      "3046   0.0  43.0   -7.0  6.533333\n",
      "\n",
      "[3047 rows x 4 columns]\n"
     ]
    }
   ],
   "source": [
    "endData = []\n",
    "for i in range(len(waistList)):\n",
    "    for j in range(len(waistList.columns)):\n",
    "        if data[\"phase\"][i]==waistList.columns[j]:\n",
    "            endData.append(waistList[j+1][i]-waistList[j][i])\n",
    "df['waist'] = endData\n",
    "print(df)"
   ]
  },
  {
   "cell_type": "code",
   "execution_count": 56,
   "metadata": {},
   "outputs": [
    {
     "name": "stdout",
     "output_type": "stream",
     "text": [
      "       glu   alt     tg     waist      fib4\n",
      "0     19.0 -31.0   45.0 -2.200000 -0.123438\n",
      "1      5.0   4.0  -53.0 -2.300000 -0.036142\n",
      "2     56.0   3.0   41.0  4.800000  0.055786\n",
      "3     -6.0 -17.0  174.0 -5.366667 -0.106220\n",
      "4     17.0  -2.0  -43.0  1.733333 -0.058004\n",
      "...    ...   ...    ...       ...       ...\n",
      "3042 -11.0 -11.0  -81.0  5.500000  0.023549\n",
      "3043   5.0   3.0   -8.0  6.700000 -0.314755\n",
      "3044   0.0  22.0    7.0 -1.200000 -0.930998\n",
      "3045  -7.0   1.0  -21.0  5.200000  0.085283\n",
      "3046   0.0  43.0   -7.0  6.533333  0.638841\n",
      "\n",
      "[3047 rows x 5 columns]\n"
     ]
    }
   ],
   "source": [
    "endData = []\n",
    "for i in range(len(fib4List)):\n",
    "    for j in range(len(fib4List.columns)):\n",
    "        if data[\"phase\"][i]==fib4List.columns[j]:\n",
    "            endData.append(fib4List[j+1][i]-fib4List[j][i])\n",
    "df['fib4'] = endData\n",
    "print(df)"
   ]
  },
  {
   "cell_type": "code",
   "execution_count": 57,
   "metadata": {},
   "outputs": [
    {
     "name": "stdout",
     "output_type": "stream",
     "text": [
      "       glu   alt     tg     waist      fib4  hba1c\n",
      "0     19.0 -31.0   45.0 -2.200000 -0.123438    0.1\n",
      "1      5.0   4.0  -53.0 -2.300000 -0.036142    0.9\n",
      "2     56.0   3.0   41.0  4.800000  0.055786    0.1\n",
      "3     -6.0 -17.0  174.0 -5.366667 -0.106220    0.7\n",
      "4     17.0  -2.0  -43.0  1.733333 -0.058004    1.6\n",
      "...    ...   ...    ...       ...       ...    ...\n",
      "3042 -11.0 -11.0  -81.0  5.500000  0.023549   -0.5\n",
      "3043   5.0   3.0   -8.0  6.700000 -0.314755    0.3\n",
      "3044   0.0  22.0    7.0 -1.200000 -0.930998    0.1\n",
      "3045  -7.0   1.0  -21.0  5.200000  0.085283   -0.3\n",
      "3046   0.0  43.0   -7.0  6.533333  0.638841    0.7\n",
      "\n",
      "[3047 rows x 6 columns]\n"
     ]
    }
   ],
   "source": [
    "endData = []\n",
    "for i in range(len(hba1cList)):\n",
    "    for j in range(len(hba1cList.columns)):\n",
    "        if data[\"phase\"][i]==hba1cList.columns[j]:\n",
    "            endData.append(hba1cList[j+1][i]-hba1cList[j][i])\n",
    "df['hba1c'] = endData\n",
    "print(df)"
   ]
  },
  {
   "cell_type": "code",
   "execution_count": 58,
   "metadata": {},
   "outputs": [
    {
     "name": "stdout",
     "output_type": "stream",
     "text": [
      "       glu   alt     tg     waist      fib4  hba1c      homa\n",
      "0     19.0 -31.0   45.0 -2.200000 -0.123438    0.1  0.486049\n",
      "1      5.0   4.0  -53.0 -2.300000 -0.036142    0.9 -0.226914\n",
      "2     56.0   3.0   41.0  4.800000  0.055786    0.1  1.398519\n",
      "3     -6.0 -17.0  174.0 -5.366667 -0.106220    0.7 -1.067654\n",
      "4     17.0  -2.0  -43.0  1.733333 -0.058004    1.6  2.662222\n",
      "...    ...   ...    ...       ...       ...    ...       ...\n",
      "3042 -11.0 -11.0  -81.0  5.500000  0.023549   -0.5 -1.177778\n",
      "3043   5.0   3.0   -8.0  6.700000 -0.314755    0.3  0.161975\n",
      "3044   0.0  22.0    7.0 -1.200000 -0.930998    0.1  0.840494\n",
      "3045  -7.0   1.0  -21.0  5.200000  0.085283   -0.3 -0.204938\n",
      "3046   0.0  43.0   -7.0  6.533333  0.638841    0.7  0.347654\n",
      "\n",
      "[3047 rows x 7 columns]\n"
     ]
    }
   ],
   "source": [
    "endData = []\n",
    "for i in range(len(homaList)):\n",
    "    for j in range(len(homaList.columns)):\n",
    "        if data[\"phase\"][i]==homaList.columns[j]:\n",
    "            endData.append(homaList[j+1][i]-homaList[j][i])\n",
    "df['homa'] = endData\n",
    "print(df)"
   ]
  },
  {
   "cell_type": "code",
   "execution_count": 59,
   "metadata": {},
   "outputs": [
    {
     "data": {
      "text/html": [
       "<div>\n",
       "<style scoped>\n",
       "    .dataframe tbody tr th:only-of-type {\n",
       "        vertical-align: middle;\n",
       "    }\n",
       "\n",
       "    .dataframe tbody tr th {\n",
       "        vertical-align: top;\n",
       "    }\n",
       "\n",
       "    .dataframe thead th {\n",
       "        text-align: right;\n",
       "    }\n",
       "</style>\n",
       "<table border=\"1\" class=\"dataframe\">\n",
       "  <thead>\n",
       "    <tr style=\"text-align: right;\">\n",
       "      <th></th>\n",
       "      <th>glu</th>\n",
       "      <th>alt</th>\n",
       "      <th>tg</th>\n",
       "      <th>waist</th>\n",
       "      <th>fib4</th>\n",
       "      <th>hba1c</th>\n",
       "      <th>homa</th>\n",
       "    </tr>\n",
       "  </thead>\n",
       "  <tbody>\n",
       "    <tr>\n",
       "      <th>0</th>\n",
       "      <td>19.0</td>\n",
       "      <td>-31.0</td>\n",
       "      <td>45.0</td>\n",
       "      <td>-2.200000</td>\n",
       "      <td>-0.123438</td>\n",
       "      <td>0.1</td>\n",
       "      <td>0.486049</td>\n",
       "    </tr>\n",
       "    <tr>\n",
       "      <th>1</th>\n",
       "      <td>5.0</td>\n",
       "      <td>4.0</td>\n",
       "      <td>-53.0</td>\n",
       "      <td>-2.300000</td>\n",
       "      <td>-0.036142</td>\n",
       "      <td>0.9</td>\n",
       "      <td>-0.226914</td>\n",
       "    </tr>\n",
       "    <tr>\n",
       "      <th>2</th>\n",
       "      <td>56.0</td>\n",
       "      <td>3.0</td>\n",
       "      <td>41.0</td>\n",
       "      <td>4.800000</td>\n",
       "      <td>0.055786</td>\n",
       "      <td>0.1</td>\n",
       "      <td>1.398519</td>\n",
       "    </tr>\n",
       "    <tr>\n",
       "      <th>3</th>\n",
       "      <td>-6.0</td>\n",
       "      <td>-17.0</td>\n",
       "      <td>174.0</td>\n",
       "      <td>-5.366667</td>\n",
       "      <td>-0.106220</td>\n",
       "      <td>0.7</td>\n",
       "      <td>-1.067654</td>\n",
       "    </tr>\n",
       "    <tr>\n",
       "      <th>4</th>\n",
       "      <td>17.0</td>\n",
       "      <td>-2.0</td>\n",
       "      <td>-43.0</td>\n",
       "      <td>1.733333</td>\n",
       "      <td>-0.058004</td>\n",
       "      <td>1.6</td>\n",
       "      <td>2.662222</td>\n",
       "    </tr>\n",
       "    <tr>\n",
       "      <th>...</th>\n",
       "      <td>...</td>\n",
       "      <td>...</td>\n",
       "      <td>...</td>\n",
       "      <td>...</td>\n",
       "      <td>...</td>\n",
       "      <td>...</td>\n",
       "      <td>...</td>\n",
       "    </tr>\n",
       "    <tr>\n",
       "      <th>3042</th>\n",
       "      <td>-11.0</td>\n",
       "      <td>-11.0</td>\n",
       "      <td>-81.0</td>\n",
       "      <td>5.500000</td>\n",
       "      <td>0.023549</td>\n",
       "      <td>-0.5</td>\n",
       "      <td>-1.177778</td>\n",
       "    </tr>\n",
       "    <tr>\n",
       "      <th>3043</th>\n",
       "      <td>5.0</td>\n",
       "      <td>3.0</td>\n",
       "      <td>-8.0</td>\n",
       "      <td>6.700000</td>\n",
       "      <td>-0.314755</td>\n",
       "      <td>0.3</td>\n",
       "      <td>0.161975</td>\n",
       "    </tr>\n",
       "    <tr>\n",
       "      <th>3044</th>\n",
       "      <td>0.0</td>\n",
       "      <td>22.0</td>\n",
       "      <td>7.0</td>\n",
       "      <td>-1.200000</td>\n",
       "      <td>-0.930998</td>\n",
       "      <td>0.1</td>\n",
       "      <td>0.840494</td>\n",
       "    </tr>\n",
       "    <tr>\n",
       "      <th>3045</th>\n",
       "      <td>-7.0</td>\n",
       "      <td>1.0</td>\n",
       "      <td>-21.0</td>\n",
       "      <td>5.200000</td>\n",
       "      <td>0.085283</td>\n",
       "      <td>-0.3</td>\n",
       "      <td>-0.204938</td>\n",
       "    </tr>\n",
       "    <tr>\n",
       "      <th>3046</th>\n",
       "      <td>0.0</td>\n",
       "      <td>43.0</td>\n",
       "      <td>-7.0</td>\n",
       "      <td>6.533333</td>\n",
       "      <td>0.638841</td>\n",
       "      <td>0.7</td>\n",
       "      <td>0.347654</td>\n",
       "    </tr>\n",
       "  </tbody>\n",
       "</table>\n",
       "<p>3047 rows × 7 columns</p>\n",
       "</div>"
      ],
      "text/plain": [
       "       glu   alt     tg     waist      fib4  hba1c      homa\n",
       "0     19.0 -31.0   45.0 -2.200000 -0.123438    0.1  0.486049\n",
       "1      5.0   4.0  -53.0 -2.300000 -0.036142    0.9 -0.226914\n",
       "2     56.0   3.0   41.0  4.800000  0.055786    0.1  1.398519\n",
       "3     -6.0 -17.0  174.0 -5.366667 -0.106220    0.7 -1.067654\n",
       "4     17.0  -2.0  -43.0  1.733333 -0.058004    1.6  2.662222\n",
       "...    ...   ...    ...       ...       ...    ...       ...\n",
       "3042 -11.0 -11.0  -81.0  5.500000  0.023549   -0.5 -1.177778\n",
       "3043   5.0   3.0   -8.0  6.700000 -0.314755    0.3  0.161975\n",
       "3044   0.0  22.0    7.0 -1.200000 -0.930998    0.1  0.840494\n",
       "3045  -7.0   1.0  -21.0  5.200000  0.085283   -0.3 -0.204938\n",
       "3046   0.0  43.0   -7.0  6.533333  0.638841    0.7  0.347654\n",
       "\n",
       "[3047 rows x 7 columns]"
      ]
     },
     "execution_count": 59,
     "metadata": {},
     "output_type": "execute_result"
    }
   ],
   "source": [
    "df"
   ]
  },
  {
   "cell_type": "code",
   "execution_count": 62,
   "metadata": {},
   "outputs": [],
   "source": [
    "df.to_excel('/home/ncyc-admin/Project/The_Moagen/File/diff_data.xlsx')"
   ]
  },
  {
   "cell_type": "code",
   "execution_count": null,
   "metadata": {},
   "outputs": [],
   "source": []
  }
 ],
 "metadata": {
  "kernelspec": {
   "display_name": "Python 3",
   "language": "python",
   "name": "python3"
  },
  "language_info": {
   "codemirror_mode": {
    "name": "ipython",
    "version": 3
   },
   "file_extension": ".py",
   "mimetype": "text/x-python",
   "name": "python",
   "nbconvert_exporter": "python",
   "pygments_lexer": "ipython3",
   "version": "3.6.9"
  }
 },
 "nbformat": 4,
 "nbformat_minor": 4
}
